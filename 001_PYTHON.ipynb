{
 "cells": [
  {
   "cell_type": "markdown",
   "id": "dcddb85c-ece3-484f-a6e2-e4c7dd950a54",
   "metadata": {
    "id": "dcddb85c-ece3-484f-a6e2-e4c7dd950a54"
   },
   "source": [
    "<h1> INTRODUCCION PYTHON </h1>"
   ]
  },
  {
   "cell_type": "markdown",
   "id": "92c05f62-7186-405e-9ed7-12956a47e17a",
   "metadata": {
    "id": "92c05f62-7186-405e-9ed7-12956a47e17a"
   },
   "source": [
    "## **1. Activacion de Módulos**"
   ]
  },
  {
   "cell_type": "code",
   "execution_count": null,
   "id": "f2db7b9a-7714-4289-95a2-dc25cb9b1cfa",
   "metadata": {
    "id": "f2db7b9a-7714-4289-95a2-dc25cb9b1cfa",
    "outputId": "c479d916-19c2-48d4-ea6e-bc55076b2040"
   },
   "outputs": [],
   "source": [
    "import sys\n",
    "print('Python version:', sys.version)"
   ]
  },
  {
   "cell_type": "code",
   "execution_count": null,
   "id": "1f233552-f358-46ec-a830-2b183119c6a0",
   "metadata": {
    "id": "1f233552-f358-46ec-a830-2b183119c6a0",
    "outputId": "497da351-f41b-4bfb-edc9-8e914f6d0d0b",
    "scrolled": true
   },
   "outputs": [],
   "source": [
    "import numpy # ALEATORIOS / CALCULOS DE MATRICES / VECTORES / ALGEBRA LINEAL\n",
    "print('Numpy version:', numpy.__version__)"
   ]
  },
  {
   "cell_type": "code",
   "execution_count": null,
   "id": "eb6bee90-277d-4fe3-be46-2cdd3789ac58",
   "metadata": {
    "id": "eb6bee90-277d-4fe3-be46-2cdd3789ac58",
    "outputId": "57690860-382a-44ea-ecb6-ac61e3a0d371"
   },
   "outputs": [],
   "source": [
    "import scipy # DERIVADAS / INTEGRALES\n",
    "print('scipy version:', scipy.__version__)"
   ]
  },
  {
   "cell_type": "code",
   "execution_count": null,
   "id": "54e388c4-7d1e-48f7-8677-0e895a111934",
   "metadata": {
    "id": "54e388c4-7d1e-48f7-8677-0e895a111934",
    "outputId": "125fa352-75f4-4185-87ff-3adb2ed135e7"
   },
   "outputs": [],
   "source": [
    "import matplotlib # CREACION DE GRAFICOS \n",
    "print('matplotlib version:', matplotlib.__version__)"
   ]
  },
  {
   "cell_type": "code",
   "execution_count": null,
   "id": "a826950d-6485-41cf-8e28-16131450ac0b",
   "metadata": {
    "id": "a826950d-6485-41cf-8e28-16131450ac0b",
    "outputId": "c2d42e25-f8e0-4b33-fefe-277faf03c6f4"
   },
   "outputs": [],
   "source": [
    "import pandas # TRATAMIENTO DE DATOS O MANEJO DE DATOS\n",
    "print('pandas version:', pandas.__version__)"
   ]
  },
  {
   "cell_type": "code",
   "execution_count": null,
   "id": "42804f07-f27b-41e1-b0ec-c0e082d91ac3",
   "metadata": {
    "id": "42804f07-f27b-41e1-b0ec-c0e082d91ac3",
    "outputId": "cdfccec3-2cfb-4d7e-e612-f6f80a9a9795"
   },
   "outputs": [],
   "source": [
    "import seaborn # VISUALIZACION DE DATOS \n",
    "print('seaborn version:', seaborn.__version__)"
   ]
  },
  {
   "cell_type": "code",
   "execution_count": null,
   "id": "935ee20e-fa12-4cb4-a337-1f7e5c10f72a",
   "metadata": {
    "id": "935ee20e-fa12-4cb4-a337-1f7e5c10f72a",
    "outputId": "bcabbdbd-fad6-468c-c99a-26498074156d"
   },
   "outputs": [],
   "source": [
    "import sklearn # ALGORITMOS DE MACHIN LEARNING\n",
    "print('scikit-learn version:', sklearn.__version__)"
   ]
  },
  {
   "cell_type": "code",
   "execution_count": null,
   "id": "2cb80a54",
   "metadata": {},
   "outputs": [],
   "source": [
    "import pydotplus # VISUALIZAR ARBOLES DE DESICIONES"
   ]
  },
  {
   "cell_type": "markdown",
   "id": "b9a4f491-9d30-46bf-b085-57774fee10d7",
   "metadata": {
    "id": "b9a4f491-9d30-46bf-b085-57774fee10d7"
   },
   "source": [
    "## **2. Acceso a las funciones del módulo os**"
   ]
  },
  {
   "cell_type": "code",
   "execution_count": null,
   "id": "42ef4431-df40-4584-99d5-315a65c7483e",
   "metadata": {
    "executionInfo": {
     "elapsed": 2,
     "status": "ok",
     "timestamp": 1718727501201,
     "user": {
      "displayName": "Oscar Alejandro Choque Surco",
      "userId": "04872955414988793807"
     },
     "user_tz": 300
    },
    "id": "42ef4431-df40-4584-99d5-315a65c7483e"
   },
   "outputs": [],
   "source": [
    "import os # Operaciones del Sistema Operativo"
   ]
  },
  {
   "cell_type": "code",
   "execution_count": null,
   "id": "61d2695d-ba87-4a0c-b918-66a00940731e",
   "metadata": {
    "colab": {
     "base_uri": "https://localhost:8080/",
     "height": 36
    },
    "executionInfo": {
     "elapsed": 462,
     "status": "ok",
     "timestamp": 1718727503801,
     "user": {
      "displayName": "Oscar Alejandro Choque Surco",
      "userId": "04872955414988793807"
     },
     "user_tz": 300
    },
    "id": "61d2695d-ba87-4a0c-b918-66a00940731e",
    "outputId": "e71b278d-2502-401f-8d7a-a7d66aa7143d"
   },
   "outputs": [],
   "source": [
    "# Obtenemos la ruta por defecto de trabajo\n",
    "os.getcwd()"
   ]
  },
  {
   "cell_type": "code",
   "execution_count": null,
   "id": "acd0fbd7-128f-42e4-bbe6-6827a1e10f10",
   "metadata": {
    "executionInfo": {
     "elapsed": 442,
     "status": "ok",
     "timestamp": 1718727524162,
     "user": {
      "displayName": "Oscar Alejandro Choque Surco",
      "userId": "04872955414988793807"
     },
     "user_tz": 300
    },
    "id": "acd0fbd7-128f-42e4-bbe6-6827a1e10f10"
   },
   "outputs": [],
   "source": [
    "# Seteamos la unidad de disco para trabajar\n",
    "os.chdir(\"/content\")"
   ]
  },
  {
   "cell_type": "code",
   "execution_count": null,
   "id": "17e01e67-d659-4039-a14a-5deb872d7ea7",
   "metadata": {
    "colab": {
     "base_uri": "https://localhost:8080/"
    },
    "executionInfo": {
     "elapsed": 2,
     "status": "ok",
     "timestamp": 1718727526681,
     "user": {
      "displayName": "Oscar Alejandro Choque Surco",
      "userId": "04872955414988793807"
     },
     "user_tz": 300
    },
    "id": "17e01e67-d659-4039-a14a-5deb872d7ea7",
    "outputId": "60efbb75-c76e-407f-8226-df41166b143b"
   },
   "outputs": [],
   "source": [
    "# Obtenemos una lista del directorio\n",
    "os.listdir()"
   ]
  },
  {
   "cell_type": "code",
   "execution_count": null,
   "id": "1420b351-828c-483f-a5f3-faf48094bb6f",
   "metadata": {
    "executionInfo": {
     "elapsed": 424,
     "status": "ok",
     "timestamp": 1718727535881,
     "user": {
      "displayName": "Oscar Alejandro Choque Surco",
      "userId": "04872955414988793807"
     },
     "user_tz": 300
    },
    "id": "1420b351-828c-483f-a5f3-faf48094bb6f"
   },
   "outputs": [],
   "source": [
    "# Creamos un folder\n",
    "os.mkdir(\"Sesion01\")"
   ]
  },
  {
   "cell_type": "code",
   "execution_count": null,
   "id": "c03e411e-10a6-4f16-8da6-ebde1e4792de",
   "metadata": {
    "executionInfo": {
     "elapsed": 469,
     "status": "ok",
     "timestamp": 1718727551138,
     "user": {
      "displayName": "Oscar Alejandro Choque Surco",
      "userId": "04872955414988793807"
     },
     "user_tz": 300
    },
    "id": "c03e411e-10a6-4f16-8da6-ebde1e4792de"
   },
   "outputs": [],
   "source": [
    "# Seteamos la ruta al folder\n",
    "os.chdir(\"/content/Sesion01\")"
   ]
  },
  {
   "cell_type": "code",
   "execution_count": null,
   "id": "54e3461a-2012-4ba0-a516-8fb99254ee97",
   "metadata": {
    "colab": {
     "base_uri": "https://localhost:8080/",
     "height": 36
    },
    "executionInfo": {
     "elapsed": 557,
     "status": "ok",
     "timestamp": 1718727555408,
     "user": {
      "displayName": "Oscar Alejandro Choque Surco",
      "userId": "04872955414988793807"
     },
     "user_tz": 300
    },
    "id": "54e3461a-2012-4ba0-a516-8fb99254ee97",
    "outputId": "c6c22cce-25c5-4265-f796-3bab22133b27"
   },
   "outputs": [],
   "source": [
    "os.getcwd()"
   ]
  },
  {
   "cell_type": "code",
   "execution_count": null,
   "id": "be44118e-c7a0-4235-900a-c411e96f5842",
   "metadata": {
    "id": "be44118e-c7a0-4235-900a-c411e96f5842"
   },
   "outputs": [],
   "source": [
    "os.chdir(\"C:/\")\n",
    "os.rmdir(\"Sesion01\") #PARA BORRAR EL FOLDER"
   ]
  },
  {
   "cell_type": "markdown",
   "id": "84d48927-edb2-4060-acef-e4e51e58bc6d",
   "metadata": {
    "id": "84d48927-edb2-4060-acef-e4e51e58bc6d"
   },
   "source": [
    "## **3. Ver el contenido de un módulo**"
   ]
  },
  {
   "cell_type": "code",
   "execution_count": null,
   "id": "f1804405-2019-4533-aca7-71a251ac3edf",
   "metadata": {
    "id": "f1804405-2019-4533-aca7-71a251ac3edf"
   },
   "outputs": [],
   "source": [
    "import math # Activacion"
   ]
  },
  {
   "cell_type": "code",
   "execution_count": null,
   "id": "f84d802a-ba6c-4d80-9ace-be79295ad122",
   "metadata": {
    "id": "f84d802a-ba6c-4d80-9ace-be79295ad122",
    "outputId": "daea543f-95d4-4a3e-9b34-331bc2c367f0"
   },
   "outputs": [],
   "source": [
    "print(dir(math))"
   ]
  },
  {
   "cell_type": "code",
   "execution_count": null,
   "id": "22b027ba-6621-4e14-b6f0-231e266ff63d",
   "metadata": {
    "id": "22b027ba-6621-4e14-b6f0-231e266ff63d",
    "outputId": "c0aa39e4-106d-4bb9-fb46-75bed7e09fe0"
   },
   "outputs": [],
   "source": [
    "math.sqrt(4)"
   ]
  },
  {
   "cell_type": "code",
   "execution_count": null,
   "id": "526f0cb6-efdd-493f-a12d-deb07b9732d8",
   "metadata": {
    "id": "526f0cb6-efdd-493f-a12d-deb07b9732d8",
    "outputId": "e226e2ea-13ef-474c-9f77-63ac8b6cc807"
   },
   "outputs": [],
   "source": [
    "math.log(5)"
   ]
  },
  {
   "cell_type": "code",
   "execution_count": null,
   "id": "b28f052e-6e20-4ad6-a43b-32ee7be914b2",
   "metadata": {
    "id": "b28f052e-6e20-4ad6-a43b-32ee7be914b2",
    "outputId": "16ec4c8e-9666-4271-c23c-496534fc5e30"
   },
   "outputs": [],
   "source": [
    "math.factorial(4)"
   ]
  },
  {
   "cell_type": "code",
   "execution_count": null,
   "id": "3ee95fa7-f70b-4e14-9526-25c3e011f8a8",
   "metadata": {
    "id": "3ee95fa7-f70b-4e14-9526-25c3e011f8a8"
   },
   "outputs": [],
   "source": [
    "math.exp(1)"
   ]
  },
  {
   "cell_type": "code",
   "execution_count": null,
   "id": "b2491455-769b-446b-944d-f64ddb58d892",
   "metadata": {
    "id": "b2491455-769b-446b-944d-f64ddb58d892"
   },
   "outputs": [],
   "source": [
    "math.pi"
   ]
  },
  {
   "cell_type": "code",
   "execution_count": null,
   "id": "e383375b-bc1c-4c61-99d6-5da55b2292c3",
   "metadata": {
    "id": "e383375b-bc1c-4c61-99d6-5da55b2292c3"
   },
   "outputs": [],
   "source": [
    "# Visualizar los modulos cargados en memoria\n",
    "%whos"
   ]
  },
  {
   "cell_type": "markdown",
   "id": "334e679f-ebbb-40d5-a2eb-2ff36a5d8139",
   "metadata": {
    "id": "334e679f-ebbb-40d5-a2eb-2ff36a5d8139"
   },
   "source": [
    "## **4. Ver el contenido de un módulo**"
   ]
  },
  {
   "cell_type": "markdown",
   "id": "380e8969-959c-4ada-b1f4-3bd714ccef0c",
   "metadata": {
    "id": "380e8969-959c-4ada-b1f4-3bd714ccef0c"
   },
   "source": [
    "Forma general de una declaracion que importa un subconjunto de las funciones disponibles de un módulo. La funcion **list** es una lista de nombres de funciones para importar, separada por comas"
   ]
  },
  {
   "cell_type": "markdown",
   "id": "bb513472-ae44-4c23-a5b7-7ba4c6476ed0",
   "metadata": {
    "id": "bb513472-ae44-4c23-a5b7-7ba4c6476ed0"
   },
   "source": [
    "<div style=\"text-align: center;\">\n",
    "    <h1><span style=\"color:green\">from</span> <span style=\"color:red\"><i>module</i></span> <span style=\"color:green\">import</span> <span style=\"color:blue\"><i>function_list</i></span></h1>\n",
    "</div>"
   ]
  },
  {
   "cell_type": "code",
   "execution_count": null,
   "id": "7f6a9dba-541b-4c14-bf5d-2d3ce20d6a46",
   "metadata": {
    "id": "7f6a9dba-541b-4c14-bf5d-2d3ce20d6a46"
   },
   "outputs": [],
   "source": [
    "# Importa una funcion en particular\n",
    "from math import sqrt"
   ]
  },
  {
   "cell_type": "code",
   "execution_count": null,
   "id": "abe75923-d293-4d7c-a38f-e01ad52c29cf",
   "metadata": {
    "id": "abe75923-d293-4d7c-a38f-e01ad52c29cf"
   },
   "outputs": [],
   "source": [
    "# Forma tradicional, importacion de todo math\n",
    "math.sqrt(9)"
   ]
  },
  {
   "cell_type": "code",
   "execution_count": null,
   "id": "c60779b8-33a6-4822-a65e-9227738a97a7",
   "metadata": {
    "id": "c60779b8-33a6-4822-a65e-9227738a97a7"
   },
   "outputs": [],
   "source": [
    "# Forma mas eficiente\n",
    "sqrt(9) # from math import sqrt"
   ]
  },
  {
   "cell_type": "code",
   "execution_count": null,
   "id": "a75886d4-e2a9-4ce9-9149-41e47d454b31",
   "metadata": {
    "id": "a75886d4-e2a9-4ce9-9149-41e47d454b31"
   },
   "outputs": [],
   "source": [
    "del math"
   ]
  },
  {
   "cell_type": "code",
   "execution_count": null,
   "id": "b691a10b-a41e-443e-9e43-a2ba45cc0a2f",
   "metadata": {
    "id": "b691a10b-a41e-443e-9e43-a2ba45cc0a2f"
   },
   "outputs": [],
   "source": [
    "# Verificamos\n",
    "%whos"
   ]
  },
  {
   "cell_type": "markdown",
   "id": "620e9e72-e13e-447a-a392-0ceaf2b9dce5",
   "metadata": {
    "id": "620e9e72-e13e-447a-a392-0ceaf2b9dce5"
   },
   "source": [
    "## **5. Instalación Modulos Externos en Python**"
   ]
  },
  {
   "cell_type": "code",
   "execution_count": null,
   "id": "a3b1cf49-e65f-4b5e-820a-98b218c5939d",
   "metadata": {
    "id": "a3b1cf49-e65f-4b5e-820a-98b218c5939d"
   },
   "outputs": [],
   "source": [
    "import pydotplus # Visualizacion de arboles de decision"
   ]
  },
  {
   "cell_type": "markdown",
   "id": "7bb2658a-1aa2-45e8-8080-f6ae8f732aca",
   "metadata": {
    "id": "7bb2658a-1aa2-45e8-8080-f6ae8f732aca"
   },
   "source": [
    "Cuando queremos usar un módulo que no está instalado por defecto en Anaconda tenemos que utilizar la sentencia:"
   ]
  },
  {
   "cell_type": "code",
   "execution_count": null,
   "id": "3f318943-24e2-4e9c-aac8-715cfefcfe31",
   "metadata": {
    "id": "3f318943-24e2-4e9c-aac8-715cfefcfe31"
   },
   "outputs": [],
   "source": [
    "pip install nombre_modulo"
   ]
  },
  {
   "cell_type": "markdown",
   "id": "0e01fa2e-0fc3-40fd-96b8-37abc1db1767",
   "metadata": {
    "id": "0e01fa2e-0fc3-40fd-96b8-37abc1db1767"
   },
   "source": [
    "- **Alternativa Nro 1:** Mediante la aplicacion de Anaconda Prompt"
   ]
  },
  {
   "cell_type": "raw",
   "id": "036c4574-ac53-4f94-98e2-72a5726cc5de",
   "metadata": {
    "id": "90bcb236-c670-4dc2-926e-59621e2cbcb2"
   },
   "source": [
    "pip installl nombre_modulo"
   ]
  },
  {
   "cell_type": "markdown",
   "id": "956b958d-121d-44ce-9248-848ac1dc9d60",
   "metadata": {
    "id": "956b958d-121d-44ce-9248-848ac1dc9d60"
   },
   "source": [
    "- **Alternativa Nro 2:** Escribir el comando dentro del mismo Jupyter Notebook"
   ]
  },
  {
   "cell_type": "code",
   "execution_count": null,
   "id": "e5f027d8-f629-4fa7-b2cc-e83f192bded2",
   "metadata": {
    "id": "e5f027d8-f629-4fa7-b2cc-e83f192bded2"
   },
   "outputs": [],
   "source": [
    "!pip install pydotplus"
   ]
  },
  {
   "cell_type": "markdown",
   "id": "13e78961-6d5b-4ad0-9db4-95714247aecb",
   "metadata": {
    "id": "13e78961-6d5b-4ad0-9db4-95714247aecb"
   },
   "source": [
    "**Verificacion**"
   ]
  },
  {
   "cell_type": "code",
   "execution_count": null,
   "id": "bb7b0ff3-2c23-487b-be50-04f4fc11414d",
   "metadata": {
    "id": "bb7b0ff3-2c23-487b-be50-04f4fc11414d"
   },
   "outputs": [],
   "source": [
    "import pydotplus"
   ]
  },
  {
   "cell_type": "code",
   "execution_count": null,
   "id": "c65ea54f-b301-4174-a185-eff58284e0ad",
   "metadata": {
    "id": "c65ea54f-b301-4174-a185-eff58284e0ad"
   },
   "outputs": [],
   "source": []
  },
  {
   "cell_type": "markdown",
   "id": "2987c8c1-2997-4634-81c6-f2be865d8cfd",
   "metadata": {
    "id": "2987c8c1-2997-4634-81c6-f2be865d8cfd"
   },
   "source": [
    "## **6. Declarando Variables String**"
   ]
  },
  {
   "cell_type": "code",
   "execution_count": null,
   "id": "7d14579b-bf1f-413c-a75f-1e876393dd40",
   "metadata": {
    "id": "7d14579b-bf1f-413c-a75f-1e876393dd40"
   },
   "outputs": [],
   "source": [
    "mi_variable_texto = 'Hola desde Python!'\n",
    "print(mi_variable_texto)"
   ]
  },
  {
   "cell_type": "code",
   "execution_count": null,
   "id": "a0636078-6100-45c1-8043-17f0bed289fe",
   "metadata": {
    "id": "a0636078-6100-45c1-8043-17f0bed289fe"
   },
   "outputs": [],
   "source": [
    "var1 = \"Hoy es soleado\""
   ]
  },
  {
   "cell_type": "code",
   "execution_count": null,
   "id": "0e50c8a2-0f03-4ba3-9a0d-3cade8a14f7e",
   "metadata": {
    "id": "0e50c8a2-0f03-4ba3-9a0d-3cade8a14f7e"
   },
   "outputs": [],
   "source": [
    "%whos"
   ]
  },
  {
   "cell_type": "code",
   "execution_count": null,
   "id": "fbda30c5-bc9f-46a2-bab5-423f40f6e932",
   "metadata": {
    "id": "fbda30c5-bc9f-46a2-bab5-423f40f6e932"
   },
   "outputs": [],
   "source": [
    "mi_variable_texto"
   ]
  },
  {
   "cell_type": "code",
   "execution_count": null,
   "id": "269f3c82-4303-4a90-9392-1acceba1970d",
   "metadata": {
    "id": "269f3c82-4303-4a90-9392-1acceba1970d"
   },
   "outputs": [],
   "source": [
    "type(mi_variable_texto)"
   ]
  },
  {
   "cell_type": "code",
   "execution_count": null,
   "id": "ba7c4f76-8fa3-49c2-999a-30eb0930bfb2",
   "metadata": {
    "id": "ba7c4f76-8fa3-49c2-999a-30eb0930bfb2"
   },
   "outputs": [],
   "source": [
    "mi_variable_texto"
   ]
  },
  {
   "cell_type": "code",
   "execution_count": null,
   "id": "561b680f-6861-4c7e-99ba-c4c09452f1d5",
   "metadata": {
    "id": "561b680f-6861-4c7e-99ba-c4c09452f1d5"
   },
   "outputs": [],
   "source": []
  },
  {
   "cell_type": "markdown",
   "id": "e8b339c4-94aa-4121-afe9-c8f0a1b9d500",
   "metadata": {
    "id": "e8b339c4-94aa-4121-afe9-c8f0a1b9d500"
   },
   "source": [
    "## **7. Métodos in String**"
   ]
  },
  {
   "cell_type": "markdown",
   "id": "bd6573c5-3e39-4d63-b5f2-b4345b8d909e",
   "metadata": {
    "id": "bd6573c5-3e39-4d63-b5f2-b4345b8d909e"
   },
   "source": [
    "Un método es una funcion que pertenece a un objeto. En Python, el término método no está limitado a instancias de clase: otrs tipos de objetos pueden tener métodos también. objeto.metodo. Se puede visualizar los metodos correspondientes a cada objeto presionando \"punto(.) y TAB\""
   ]
  },
  {
   "cell_type": "code",
   "execution_count": null,
   "id": "9486f0e3-2d02-420a-be9d-cd0ccc812d36",
   "metadata": {
    "id": "9486f0e3-2d02-420a-be9d-cd0ccc812d36"
   },
   "outputs": [],
   "source": [
    "mi_variable_texto"
   ]
  },
  {
   "cell_type": "code",
   "execution_count": null,
   "id": "9c444313-7f2e-4941-aff9-b096a2a2ad17",
   "metadata": {
    "id": "9c444313-7f2e-4941-aff9-b096a2a2ad17"
   },
   "outputs": [],
   "source": [
    "mi_variable_texto.lower() # Todo minuscula \"hola mundo\""
   ]
  },
  {
   "cell_type": "code",
   "execution_count": null,
   "id": "89dd6b63-1aac-475f-8960-dd714fd16dac",
   "metadata": {
    "id": "89dd6b63-1aac-475f-8960-dd714fd16dac"
   },
   "outputs": [],
   "source": [
    "mi_variable_texto = mi_variable_texto.capitalize() # Primer caracter en Mayuscula \"Hola mundo\""
   ]
  },
  {
   "cell_type": "code",
   "execution_count": null,
   "id": "3bdfaa7a-e71b-4b7e-9695-7de576096f8a",
   "metadata": {
    "id": "3bdfaa7a-e71b-4b7e-9695-7de576096f8a"
   },
   "outputs": [],
   "source": [
    "mi_variable_texto"
   ]
  },
  {
   "cell_type": "code",
   "execution_count": null,
   "id": "bc07f840-ffdc-4589-839f-3a8dcbd4a579",
   "metadata": {
    "id": "bc07f840-ffdc-4589-839f-3a8dcbd4a579"
   },
   "outputs": [],
   "source": [
    "mi_variable_texto.upper() # Todo mayuscula \"HOLA MUNDO\""
   ]
  },
  {
   "cell_type": "code",
   "execution_count": null,
   "id": "63906c18-c719-482b-803a-90882cafbdeb",
   "metadata": {
    "id": "63906c18-c719-482b-803a-90882cafbdeb"
   },
   "outputs": [],
   "source": [
    "mi_variable_texto = mi_variable_texto + \"...       \""
   ]
  },
  {
   "cell_type": "code",
   "execution_count": null,
   "id": "10057c47-bf64-4213-ae33-3a82ee68ec8c",
   "metadata": {
    "id": "10057c47-bf64-4213-ae33-3a82ee68ec8c"
   },
   "outputs": [],
   "source": [
    "mi_variable_texto"
   ]
  },
  {
   "cell_type": "code",
   "execution_count": null,
   "id": "0677c398-eba8-4f52-9b38-f2fb9454eee3",
   "metadata": {
    "id": "0677c398-eba8-4f52-9b38-f2fb9454eee3"
   },
   "outputs": [],
   "source": [
    "mi_variable_texto.replace('...','.')"
   ]
  },
  {
   "cell_type": "code",
   "execution_count": null,
   "id": "a56bd944-f9d1-450a-a74f-1b32aa3eaefb",
   "metadata": {
    "id": "a56bd944-f9d1-450a-a74f-1b32aa3eaefb"
   },
   "outputs": [],
   "source": [
    "mi_variable_texto"
   ]
  },
  {
   "cell_type": "code",
   "execution_count": null,
   "id": "89d1b3d5-b894-4b05-9850-0579a67a22be",
   "metadata": {
    "id": "89d1b3d5-b894-4b05-9850-0579a67a22be"
   },
   "outputs": [],
   "source": [
    "# Elimina espacios en blanco a la derecha/izquierda\n",
    "mi_variable_texto.strip()"
   ]
  },
  {
   "cell_type": "code",
   "execution_count": null,
   "id": "c77e8261-607b-4a17-860e-769381ccd83e",
   "metadata": {
    "id": "c77e8261-607b-4a17-860e-769381ccd83e"
   },
   "outputs": [],
   "source": [
    "mi_variable_texto.split() # En una lista de palabras \"[\"Hola\",\"Mundo\"]\""
   ]
  },
  {
   "cell_type": "code",
   "execution_count": null,
   "id": "fce66fd6-894c-408e-beeb-9fed45944c10",
   "metadata": {
    "id": "fce66fd6-894c-408e-beeb-9fed45944c10"
   },
   "outputs": [],
   "source": [
    "mi_variable_texto"
   ]
  },
  {
   "cell_type": "code",
   "execution_count": null,
   "id": "287c1a22-0471-48c1-b2ff-60352cd5db8f",
   "metadata": {
    "id": "287c1a22-0471-48c1-b2ff-60352cd5db8f"
   },
   "outputs": [],
   "source": []
  },
  {
   "cell_type": "markdown",
   "id": "58ee8faa-c619-48c6-85dc-99068f64fa01",
   "metadata": {
    "id": "58ee8faa-c619-48c6-85dc-99068f64fa01"
   },
   "source": [
    "## **8. Slicing in String**"
   ]
  },
  {
   "cell_type": "code",
   "execution_count": null,
   "id": "971c12d8-01dc-4fa1-bd69-250cfcb94616",
   "metadata": {
    "id": "971c12d8-01dc-4fa1-bd69-250cfcb94616"
   },
   "outputs": [],
   "source": [
    "mi_variable_texto"
   ]
  },
  {
   "cell_type": "code",
   "execution_count": null,
   "id": "9c41c4ea-f9d4-4879-8b59-1be5d69d5f66",
   "metadata": {
    "id": "9c41c4ea-f9d4-4879-8b59-1be5d69d5f66"
   },
   "outputs": [],
   "source": [
    "mi_variable_texto[1]"
   ]
  },
  {
   "cell_type": "code",
   "execution_count": null,
   "id": "0bef5660-9840-4a55-9df0-c17b6e5b75d2",
   "metadata": {
    "id": "0bef5660-9840-4a55-9df0-c17b6e5b75d2"
   },
   "outputs": [],
   "source": [
    "mi_variable_texto[:5] # Los primeros 5 caracteres \"Hola \"Mundo"
   ]
  },
  {
   "cell_type": "code",
   "execution_count": null,
   "id": "dab176ee-7a2b-41a7-92fd-4ba89c4000d0",
   "metadata": {
    "id": "dab176ee-7a2b-41a7-92fd-4ba89c4000d0"
   },
   "outputs": [],
   "source": [
    "mi_variable_texto[5:] # Hasta la posicion n-1  Desde 5 hasta el final "
   ]
  },
  {
   "cell_type": "code",
   "execution_count": null,
   "id": "3fef6e48-efc6-4c6f-9dc0-c7dad2b10959",
   "metadata": {
    "id": "3fef6e48-efc6-4c6f-9dc0-c7dad2b10959"
   },
   "outputs": [],
   "source": [
    "len(mi_variable_texto) # Cuenta cuantos caracteres hay"
   ]
  },
  {
   "cell_type": "code",
   "execution_count": null,
   "id": "b00301f6-8044-4a30-a1d3-0fe4c6cae09c",
   "metadata": {
    "id": "b00301f6-8044-4a30-a1d3-0fe4c6cae09c"
   },
   "outputs": [],
   "source": []
  },
  {
   "cell_type": "markdown",
   "id": "350268bb-7e30-461e-ace8-9246b9f3bf4f",
   "metadata": {
    "id": "350268bb-7e30-461e-ace8-9246b9f3bf4f"
   },
   "source": [
    "## **9. Declarando variables Númericas**"
   ]
  },
  {
   "cell_type": "code",
   "execution_count": null,
   "id": "3f7fb4b4-c332-48d2-8ce0-c53208fa15e6",
   "metadata": {
    "id": "3f7fb4b4-c332-48d2-8ce0-c53208fa15e6"
   },
   "outputs": [],
   "source": [
    "a = 123\n",
    "b = 1.23"
   ]
  },
  {
   "cell_type": "code",
   "execution_count": null,
   "id": "f0b35235-8bd3-4d29-bd2b-6c35eee65869",
   "metadata": {
    "id": "f0b35235-8bd3-4d29-bd2b-6c35eee65869"
   },
   "outputs": [],
   "source": [
    "print(a)\n",
    "print(b)"
   ]
  },
  {
   "cell_type": "code",
   "execution_count": null,
   "id": "033a562f-2a78-419e-8119-32c0ba267f33",
   "metadata": {
    "id": "033a562f-2a78-419e-8119-32c0ba267f33"
   },
   "outputs": [],
   "source": [
    "type(a)"
   ]
  },
  {
   "cell_type": "code",
   "execution_count": null,
   "id": "2d093502-ce29-4578-8a52-58cbe1d39d2d",
   "metadata": {
    "id": "2d093502-ce29-4578-8a52-58cbe1d39d2d"
   },
   "outputs": [],
   "source": [
    "type(b)"
   ]
  },
  {
   "cell_type": "code",
   "execution_count": null,
   "id": "6bbd442a-2c3c-4416-ab38-c5fb8899a2d2",
   "metadata": {
    "id": "6bbd442a-2c3c-4416-ab38-c5fb8899a2d2"
   },
   "outputs": [],
   "source": []
  },
  {
   "cell_type": "markdown",
   "id": "a5131178-fa4d-412f-b49e-69fbce8fa7a6",
   "metadata": {
    "id": "a5131178-fa4d-412f-b49e-69fbce8fa7a6"
   },
   "source": [
    "## **10. Operadores Aritméticos**"
   ]
  },
  {
   "cell_type": "code",
   "execution_count": null,
   "id": "a9ed3b04-f365-4366-822a-df483771dc2e",
   "metadata": {
    "id": "a9ed3b04-f365-4366-822a-df483771dc2e"
   },
   "outputs": [],
   "source": [
    "x = 10\n",
    "y = 7"
   ]
  },
  {
   "cell_type": "code",
   "execution_count": null,
   "id": "ec941303-7c36-41fb-9d1b-f6ca64cfafee",
   "metadata": {
    "id": "ec941303-7c36-41fb-9d1b-f6ca64cfafee"
   },
   "outputs": [],
   "source": [
    "print(\"suma: \", x+y)\n",
    "print(\"resta: \", x-y)\n",
    "print(\"multiplicacion: \", x*y)\n",
    "print(\"division: \", x/y)\n",
    "print(\"potencia: \", x**y)\n",
    "print(\"residuo: \", x%y)\n",
    "print(\"cociente: \", x//y)"
   ]
  },
  {
   "cell_type": "code",
   "execution_count": null,
   "id": "7367d9de-abda-4215-bbad-bdc33b4039e8",
   "metadata": {
    "id": "7367d9de-abda-4215-bbad-bdc33b4039e8"
   },
   "outputs": [],
   "source": []
  },
  {
   "cell_type": "markdown",
   "id": "134c8b1c-cee0-4407-98bf-518f08b03404",
   "metadata": {
    "id": "134c8b1c-cee0-4407-98bf-518f08b03404"
   },
   "source": [
    "## **11. Operadores de Asignacion**"
   ]
  },
  {
   "cell_type": "code",
   "execution_count": null,
   "id": "7356d91b-f91b-4f6a-8094-8b34df60005d",
   "metadata": {
    "id": "7356d91b-f91b-4f6a-8094-8b34df60005d"
   },
   "outputs": [],
   "source": [
    "x = 5; print('El valor de la variable x es ' + str(x)) # -> 5"
   ]
  },
  {
   "cell_type": "code",
   "execution_count": null,
   "id": "c46be3b3-d588-40da-85fa-4efe251b0f1f",
   "metadata": {
    "id": "c46be3b3-d588-40da-85fa-4efe251b0f1f"
   },
   "outputs": [],
   "source": [
    "x += 10; print('El valor de la variable x es ' + str(x)) # -> x = x + 10"
   ]
  },
  {
   "cell_type": "code",
   "execution_count": null,
   "id": "a6ca39d3-8881-48fe-98b1-a94b15376738",
   "metadata": {
    "id": "a6ca39d3-8881-48fe-98b1-a94b15376738"
   },
   "outputs": [],
   "source": [
    "x -= 3; print('El valor de la variable x es ' + str(x)) # -> x = x - 10"
   ]
  },
  {
   "cell_type": "code",
   "execution_count": null,
   "id": "da309bc9-e7c2-4cac-97b4-a0fdc0bbc1a8",
   "metadata": {
    "id": "da309bc9-e7c2-4cac-97b4-a0fdc0bbc1a8"
   },
   "outputs": [],
   "source": [
    "x *= 4; print('El valor de la variable x es ' + str(x)) # -> x = x + 10"
   ]
  },
  {
   "cell_type": "code",
   "execution_count": null,
   "id": "6dbe883d-4e3f-458a-b254-ef95006541a3",
   "metadata": {
    "id": "6dbe883d-4e3f-458a-b254-ef95006541a3"
   },
   "outputs": [],
   "source": [
    "x /= 2; print('El valor de la variable x es ' + str(x))"
   ]
  },
  {
   "cell_type": "code",
   "execution_count": null,
   "id": "360f537d-ded7-4ddb-8b2e-1fcec35a13fa",
   "metadata": {
    "id": "360f537d-ded7-4ddb-8b2e-1fcec35a13fa"
   },
   "outputs": [],
   "source": [
    "x %= 14; print('El valor de la variable x es ' + str(x))"
   ]
  },
  {
   "cell_type": "code",
   "execution_count": null,
   "id": "68fe8aaf-4e32-4662-a1a0-dc3ad1b004b5",
   "metadata": {
    "id": "68fe8aaf-4e32-4662-a1a0-dc3ad1b004b5"
   },
   "outputs": [],
   "source": [
    "x //= 2; print('El valor de la variable x es ' + str(x))"
   ]
  },
  {
   "cell_type": "code",
   "execution_count": null,
   "id": "1aed5f63-35f9-47c2-8296-3d97d4d19a3c",
   "metadata": {
    "id": "1aed5f63-35f9-47c2-8296-3d97d4d19a3c"
   },
   "outputs": [],
   "source": [
    "x **= 3; print('El valor de la variable x es ' + str(x))"
   ]
  },
  {
   "cell_type": "code",
   "execution_count": null,
   "id": "6a16a534-56c2-4d9c-b715-592e52b74558",
   "metadata": {
    "id": "6a16a534-56c2-4d9c-b715-592e52b74558"
   },
   "outputs": [],
   "source": []
  },
  {
   "cell_type": "markdown",
   "id": "f3c442d2-6d1e-4437-a67c-05dc422f289a",
   "metadata": {
    "id": "f3c442d2-6d1e-4437-a67c-05dc422f289a"
   },
   "source": [
    "## **12. Operadores de Comparación**"
   ]
  },
  {
   "cell_type": "code",
   "execution_count": null,
   "id": "90715681-58c7-4271-b1fc-8970897fb440",
   "metadata": {
    "id": "90715681-58c7-4271-b1fc-8970897fb440"
   },
   "outputs": [],
   "source": [
    "x = 17\n",
    "y = 39"
   ]
  },
  {
   "cell_type": "code",
   "execution_count": null,
   "id": "3f7949db-9ce2-401b-9526-fe1951e5a3aa",
   "metadata": {
    "id": "3f7949db-9ce2-401b-9526-fe1951e5a3aa"
   },
   "outputs": [],
   "source": [
    "print(x == y)"
   ]
  },
  {
   "cell_type": "code",
   "execution_count": null,
   "id": "7228b41a-b0fb-4e83-8ec2-1f92827376d2",
   "metadata": {
    "id": "7228b41a-b0fb-4e83-8ec2-1f92827376d2"
   },
   "outputs": [],
   "source": [
    "print(x != y)"
   ]
  },
  {
   "cell_type": "code",
   "execution_count": null,
   "id": "c10e74a6-a637-4ece-a850-db304cf754a4",
   "metadata": {
    "id": "c10e74a6-a637-4ece-a850-db304cf754a4"
   },
   "outputs": [],
   "source": [
    "print(x > y)"
   ]
  },
  {
   "cell_type": "code",
   "execution_count": null,
   "id": "dbee6861-9e01-4907-9bcb-fced1851116c",
   "metadata": {
    "id": "dbee6861-9e01-4907-9bcb-fced1851116c"
   },
   "outputs": [],
   "source": [
    "print(x < y)"
   ]
  },
  {
   "cell_type": "code",
   "execution_count": null,
   "id": "c6ff9247-56d7-402f-983d-61197e1f5639",
   "metadata": {
    "id": "c6ff9247-56d7-402f-983d-61197e1f5639"
   },
   "outputs": [],
   "source": [
    "print(x >= y)"
   ]
  },
  {
   "cell_type": "code",
   "execution_count": null,
   "id": "a1e07b9a-69a9-481e-9eb2-1e1ef40d5b36",
   "metadata": {
    "id": "a1e07b9a-69a9-481e-9eb2-1e1ef40d5b36"
   },
   "outputs": [],
   "source": [
    "print(x <= y)"
   ]
  },
  {
   "cell_type": "markdown",
   "id": "bd9414e4-1d99-4f6a-8024-2849db1e2d1f",
   "metadata": {
    "id": "bd9414e4-1d99-4f6a-8024-2849db1e2d1f"
   },
   "source": [
    "## **13. Operadores Lógicos**"
   ]
  },
  {
   "cell_type": "code",
   "execution_count": null,
   "id": "a9d7d387-1007-43f9-8051-b9314823289f",
   "metadata": {
    "id": "a9d7d387-1007-43f9-8051-b9314823289f"
   },
   "outputs": [],
   "source": [
    "x = 17"
   ]
  },
  {
   "cell_type": "code",
   "execution_count": null,
   "id": "2be8fb90-0e11-491c-95e5-6f5aad66ddce",
   "metadata": {
    "id": "2be8fb90-0e11-491c-95e5-6f5aad66ddce"
   },
   "outputs": [],
   "source": [
    "print(x > 3 and x < 10)  # Verdadero y falso"
   ]
  },
  {
   "cell_type": "code",
   "execution_count": null,
   "id": "6b02128d-d279-4ca7-995c-aee714880888",
   "metadata": {
    "id": "6b02128d-d279-4ca7-995c-aee714880888"
   },
   "outputs": [],
   "source": [
    "print(x > 3 or x < 10)  # Verdadero o falso"
   ]
  },
  {
   "cell_type": "code",
   "execution_count": null,
   "id": "c51d8e60-b28e-4be8-9bbb-9443946203ee",
   "metadata": {
    "id": "c51d8e60-b28e-4be8-9bbb-9443946203ee"
   },
   "outputs": [],
   "source": [
    "print(not(x > 3 and x < 10))"
   ]
  },
  {
   "cell_type": "markdown",
   "id": "e22eb320-7887-462c-8455-7f596b822353",
   "metadata": {
    "id": "e22eb320-7887-462c-8455-7f596b822353"
   },
   "source": [
    "## **14. Tipos de Datos**"
   ]
  },
  {
   "cell_type": "code",
   "execution_count": null,
   "id": "93f555fc-4a4f-4a36-bf26-d5cbd1e2b217",
   "metadata": {
    "id": "93f555fc-4a4f-4a36-bf26-d5cbd1e2b217"
   },
   "outputs": [],
   "source": [
    "a = 1              # Entero (int)\n",
    "b = 2.5            # Decimal (float)\n",
    "c = 5j             # Número complejo (complex)\n",
    "d = \"Bienvenido\"   # Cadena de texto (str)\n",
    "e = True           # Booleano (bool)\n",
    "f = [\"Lunes\", \"Martes\", \"Miércoles\", \"Jueves\"]   # Lista\n",
    "g = (\"Enero\", \"Febrero\", \"Marzo\", \"Abril\")        # Tupla\n",
    "h = {\"brand\": \"Ford\", \"model\": \"Mustang\", \"year\": 1964}   # Diccionario\n"
   ]
  },
  {
   "cell_type": "code",
   "execution_count": null,
   "id": "124befe2-d96e-4787-a955-17c370b61863",
   "metadata": {
    "id": "124befe2-d96e-4787-a955-17c370b61863"
   },
   "outputs": [],
   "source": [
    "type(a),type(b),type(c),type(d),type(e),type(f),type(g),type(h)"
   ]
  },
  {
   "cell_type": "markdown",
   "id": "14aa1601-34e5-4a34-a987-cf0d99700efe",
   "metadata": {
    "id": "14aa1601-34e5-4a34-a987-cf0d99700efe"
   },
   "source": [
    "## **15. Conversion de Datos**"
   ]
  },
  {
   "cell_type": "code",
   "execution_count": null,
   "id": "473ad2cb-da88-4512-bdf8-f5769093d026",
   "metadata": {
    "id": "473ad2cb-da88-4512-bdf8-f5769093d026"
   },
   "outputs": [],
   "source": [
    "# Integer a Float\n",
    "float(12) "
   ]
  },
  {
   "cell_type": "code",
   "execution_count": null,
   "id": "7c4f799f-fa34-4b14-b86b-d999d00230f6",
   "metadata": {
    "id": "7c4f799f-fa34-4b14-b86b-d999d00230f6"
   },
   "outputs": [],
   "source": [
    "# Float a Integer\n",
    "int(12.3)"
   ]
  },
  {
   "cell_type": "code",
   "execution_count": null,
   "id": "f1818ffc-43e0-467c-aa9f-c51257fef50c",
   "metadata": {
    "id": "f1818ffc-43e0-467c-aa9f-c51257fef50c"
   },
   "outputs": [],
   "source": [
    "# Numero a String\n",
    "x = 10.1\n",
    "str(x)"
   ]
  },
  {
   "cell_type": "code",
   "execution_count": null,
   "id": "263cb5ed-28e7-40da-8081-b8024e5d106e",
   "metadata": {
    "id": "263cb5ed-28e7-40da-8081-b8024e5d106e"
   },
   "outputs": [],
   "source": [
    "# String a Numeric\n",
    "mes = '2'\n",
    "int(mes)"
   ]
  },
  {
   "cell_type": "code",
   "execution_count": null,
   "id": "4e76ba47-c303-48aa-8e70-0de00df197fa",
   "metadata": {
    "id": "4e76ba47-c303-48aa-8e70-0de00df197fa"
   },
   "outputs": [],
   "source": [
    "# String a Float\n",
    "estatura = '1.78'\n",
    "float(estatura)"
   ]
  },
  {
   "cell_type": "markdown",
   "id": "c5ff45f7-b118-44f8-bd20-e6163a035caa",
   "metadata": {
    "id": "c5ff45f7-b118-44f8-bd20-e6163a035caa"
   },
   "source": [
    " ## **16. Tuplas**"
   ]
  },
  {
   "cell_type": "code",
   "execution_count": null,
   "id": "0699578b-9acc-4af0-a8a1-fbf885bad671",
   "metadata": {
    "id": "0699578b-9acc-4af0-a8a1-fbf885bad671"
   },
   "outputs": [],
   "source": [
    "# Tupla Vacia\n",
    "mi_tupla_1 = ()\n",
    "\n",
    "# Tupla de números enteros\n",
    "mi_tupla_2 = (1, 2, 3)\n",
    "\n",
    "# Tupla con diferentes tipos de datos\n",
    "mi_tupla_3 = (1, \"Hola\", 3.4)\n",
    "\n",
    "# Tupla anidada\n",
    "mi_tupla_4 = (\"mouse\", (8, 4, 6), ('a'))\n",
    "\n",
    "print(mi_tupla_1)\n",
    "print(mi_tupla_2)\n",
    "print(mi_tupla_3)\n",
    "print(mi_tupla_4)"
   ]
  },
  {
   "cell_type": "code",
   "execution_count": null,
   "id": "89135901-7a13-474d-8c9e-09e6cdbc094f",
   "metadata": {
    "id": "89135901-7a13-474d-8c9e-09e6cdbc094f"
   },
   "outputs": [],
   "source": [
    "# Inmutable\n",
    "mi_tupla_5 = (0, 1, 2, 3)"
   ]
  },
  {
   "cell_type": "code",
   "execution_count": null,
   "id": "48c021bc-7094-4847-a593-abc3cdf3619a",
   "metadata": {
    "id": "48c021bc-7094-4847-a593-abc3cdf3619a"
   },
   "outputs": [],
   "source": [
    "mi_tupla_5[0] = 4 # No puedo modificar "
   ]
  },
  {
   "cell_type": "code",
   "execution_count": null,
   "id": "5acaff9a-725a-4cbd-bf25-e6a5e7fe5571",
   "metadata": {
    "id": "5acaff9a-725a-4cbd-bf25-e6a5e7fe5571"
   },
   "outputs": [],
   "source": [
    "print(mi_tupla_5)"
   ]
  },
  {
   "cell_type": "markdown",
   "id": "7e629e42-bd8f-4d0a-a080-cae3a161bf9f",
   "metadata": {
    "id": "7e629e42-bd8f-4d0a-a080-cae3a161bf9f"
   },
   "source": [
    "## **17 Listas**"
   ]
  },
  {
   "cell_type": "markdown",
   "id": "5d00b54a-07b1-41c3-8fb6-09d2ba25480d",
   "metadata": {
    "id": "5d00b54a-07b1-41c3-8fb6-09d2ba25480d"
   },
   "source": [
    "La lista es uno de los tipos de datos más versátiles y utilizados en Python. Una lista se crea colocando todos los elementos (puede ser de cualquier tipo) entre corchetes [], separados por comas.\n",
    "\n",
    "Cada valor que se almacena en la lista tiene su dirección o, como comúnmente decimos, posición o índice. Por índice, podemos obtener cualquier valor particular de la lista. El valor del índice comienza desde 0. Python lee la lista de izquierda a derecha de forma predeterminada. Los corchetes rodean cada lista. Podemos leer el elemento de la lista, pero no podemos especificar un índice que no existe en una lista, lo que resultará en un error.\n",
    "\n",
    "Las listas son mutables: los elementos pueser den modadosarse, los valores individuales pueser modificadosarse y el orden de los elementos puser cambiadosrse."
   ]
  },
  {
   "cell_type": "code",
   "execution_count": null,
   "id": "bd9953ea-5b62-4ce4-a8c4-a08903382e13",
   "metadata": {
    "id": "bd9953ea-5b62-4ce4-a8c4-a08903382e13"
   },
   "outputs": [],
   "source": [
    "# Lista Vacia\n",
    "my_list_1 = []\n",
    "\n",
    "# Lista de números enteros\n",
    "my_list_2 = [1, 2, 3]\n",
    "\n",
    "# Lista con diferentes tipos de datos\n",
    "my_list_3 = [1, \"Hello\", 3.4]\n",
    "\n",
    "# Lista anidada\n",
    "my_list_4 = [\"mouse\", [8, 4, 6], ['a']]\n",
    "\n",
    "print(my_list_1)\n",
    "print(my_list_2)\n",
    "print(my_list_3)\n",
    "print(my_list_4)"
   ]
  },
  {
   "cell_type": "code",
   "execution_count": null,
   "id": "186dfd4f-f224-402b-afcb-2399b83f9b87",
   "metadata": {
    "id": "186dfd4f-f224-402b-afcb-2399b83f9b87"
   },
   "outputs": [],
   "source": [
    "my_list_5 = [0, 1, 2, 3]\n",
    "my_list_5[0] = 4\n",
    "print(my_list_5)  # Salida: [4, 1, 2, 3]"
   ]
  },
  {
   "cell_type": "code",
   "execution_count": null,
   "id": "e28e0562-ffdc-4405-8611-d752ca6c60c4",
   "metadata": {
    "id": "e28e0562-ffdc-4405-8611-d752ca6c60c4"
   },
   "outputs": [],
   "source": [
    "mi_lista1 = [\"Lunes\", \"Martes\", \"Miercoles\", \"Jueves\", \"Viernes\", \"Sabado\", \"Domingo\"]  # mutable"
   ]
  },
  {
   "cell_type": "code",
   "execution_count": null,
   "id": "5e30f34b-0dbb-4360-8659-95f31ce93a8e",
   "metadata": {
    "id": "5e30f34b-0dbb-4360-8659-95f31ce93a8e"
   },
   "outputs": [],
   "source": [
    "mi_tupla1 = (\"Lunes\", \"Martes\", \"Miercoles\", \"Jueves\", \"Viernes\", \"Sabado\", \"Domingo\")  # inmutable"
   ]
  },
  {
   "cell_type": "code",
   "execution_count": null,
   "id": "87b57cab-e1fd-482c-aa91-f2cf913c2d7f",
   "metadata": {
    "id": "87b57cab-e1fd-482c-aa91-f2cf913c2d7f"
   },
   "outputs": [],
   "source": [
    "tupla_planetas = (\"Marte\", \"Tierra\", \"Plutón\")"
   ]
  },
  {
   "cell_type": "code",
   "execution_count": null,
   "id": "b713ff60-d190-4962-966d-d4becfb30b2a",
   "metadata": {
    "id": "b713ff60-d190-4962-966d-d4becfb30b2a"
   },
   "outputs": [],
   "source": [
    "tupla_signos = (\"Aries\", \"...\", \"Piscis\")"
   ]
  },
  {
   "cell_type": "code",
   "execution_count": null,
   "id": "ab05b7d6-8374-4d27-802d-f1df4954104e",
   "metadata": {
    "id": "ab05b7d6-8374-4d27-802d-f1df4954104e"
   },
   "outputs": [],
   "source": [
    "lista_numeros = list(range(8))\n",
    "print(lista_numeros)  # Salida: [0, 1, 2, 3, 4, 5, 6, 7]"
   ]
  },
  {
   "cell_type": "code",
   "execution_count": null,
   "id": "976c54bf-7500-467e-9697-77ac4ef4ed8a",
   "metadata": {
    "id": "976c54bf-7500-467e-9697-77ac4ef4ed8a"
   },
   "outputs": [],
   "source": [
    "len(my_list_5)"
   ]
  },
  {
   "cell_type": "markdown",
   "id": "74bc5fb9-43d1-4814-961b-93993d9044f2",
   "metadata": {
    "id": "74bc5fb9-43d1-4814-961b-93993d9044f2"
   },
   "source": [
    "## **18 Métodos de las Listas**"
   ]
  },
  {
   "cell_type": "code",
   "execution_count": null,
   "id": "3f4b288f-d77d-45ff-92f2-1aba444f8677",
   "metadata": {
    "id": "3f4b288f-d77d-45ff-92f2-1aba444f8677"
   },
   "outputs": [],
   "source": [
    "# lista tiene []\n",
    "# tupla tiene ()\n",
    "# diccionarios tiene {}\n",
    "\n",
    "# diferencia lista y tuplas?\n",
    "# lista SI se puede cambiar los valores ------ MUTABLE\n",
    "# tupla NO se puede cambiar los valores ------ INMUTABLE"
   ]
  },
  {
   "cell_type": "code",
   "execution_count": null,
   "id": "3d701134-2501-481f-9a64-4369c3e16a90",
   "metadata": {
    "id": "3d701134-2501-481f-9a64-4369c3e16a90"
   },
   "outputs": [],
   "source": [
    "autos = ['Audi','Ferrari','Bugatti','Mercedes','Lamborghini','Koenigsegg']"
   ]
  },
  {
   "cell_type": "code",
   "execution_count": null,
   "id": "1223b766-2ce3-4dbc-9c4a-035f4f39ac66",
   "metadata": {
    "id": "1223b766-2ce3-4dbc-9c4a-035f4f39ac66"
   },
   "outputs": [],
   "source": [
    "autos.append('Tico')  # Adiciona un item a la lista\n",
    "print(autos) # ['Audi', 'Ferrari', 'Bugatti', 'Mercedes', 'Lamborghini', 'Koenigsegg', 'Tico']\n"
   ]
  },
  {
   "cell_type": "code",
   "execution_count": null,
   "id": "8529a048-2c95-41b9-bacf-f52dd57d608f",
   "metadata": {
    "id": "8529a048-2c95-41b9-bacf-f52dd57d608f"
   },
   "outputs": [],
   "source": [
    "autos.remove('Tico')  # Borra un item a la lista\n",
    "print(autos) # ['Audi', 'Ferrari', 'Bugatti', 'Mercedes', 'Lamborghini', 'Koenigsegg']\n"
   ]
  },
  {
   "cell_type": "code",
   "execution_count": null,
   "id": "7a225416-3603-4e1f-ab5a-c8d9d9f0de3b",
   "metadata": {
    "id": "7a225416-3603-4e1f-ab5a-c8d9d9f0de3b"
   },
   "outputs": [],
   "source": [
    "autos.insert(3,'Toyota')  # Insertar un elemento en una posicion determinada\n",
    "print(autos) # ['Audi', 'Ferrari', 'Bugatti', 'Toyota', 'Mercedes', 'Lamborghini', 'Koenigsegg']"
   ]
  },
  {
   "cell_type": "code",
   "execution_count": null,
   "id": "2615abf1-e6ca-4df4-9b4c-61e1e0314add",
   "metadata": {
    "id": "2615abf1-e6ca-4df4-9b4c-61e1e0314add"
   },
   "outputs": [],
   "source": [
    "autos.index('Ferrari')"
   ]
  },
  {
   "cell_type": "code",
   "execution_count": null,
   "id": "6ad62bd7-651b-4396-9bb8-9cb236123c47",
   "metadata": {
    "id": "6ad62bd7-651b-4396-9bb8-9cb236123c47"
   },
   "outputs": [],
   "source": [
    "autos.pop(3)  # Remueve elementos segun el indice\n",
    "print(autos)"
   ]
  },
  {
   "cell_type": "code",
   "execution_count": null,
   "id": "41fbf2d9-8ca2-4b78-a40d-2175b0de9e2f",
   "metadata": {
    "id": "41fbf2d9-8ca2-4b78-a40d-2175b0de9e2f"
   },
   "outputs": [],
   "source": [
    "autos_usa = ['Chevrolet', 'Chrysler', 'Ford', 'Tesla'] # Lista de autos de EEUU\n",
    "\n",
    "autos_ue = ('Peugeot', 'Renault', 'Mazda') # Tupla de autos de Europa"
   ]
  },
  {
   "cell_type": "code",
   "execution_count": null,
   "id": "6c922d08-3b19-4e27-b4e3-193245fc4163",
   "metadata": {
    "id": "6c922d08-3b19-4e27-b4e3-193245fc4163"
   },
   "outputs": [],
   "source": [
    "autos_otros = ['Ferrari', 'Ferrari']\n",
    "autos_otros"
   ]
  },
  {
   "cell_type": "code",
   "execution_count": null,
   "id": "1d028201-aed4-477a-a38a-d5a252615c55",
   "metadata": {
    "id": "1d028201-aed4-477a-a38a-d5a252615c55"
   },
   "outputs": [],
   "source": [
    "autos_otros.count('Ferrari')"
   ]
  },
  {
   "cell_type": "code",
   "execution_count": null,
   "id": "97111e04-6e39-47fa-875d-e440e973b233",
   "metadata": {
    "id": "97111e04-6e39-47fa-875d-e440e973b233"
   },
   "outputs": [],
   "source": [
    "autos_otros.index('Ferrari')"
   ]
  },
  {
   "cell_type": "code",
   "execution_count": null,
   "id": "29c5dd40-d837-40f7-af86-60ae0e892943",
   "metadata": {
    "id": "29c5dd40-d837-40f7-af86-60ae0e892943"
   },
   "outputs": [],
   "source": [
    "autos.extend(autos_usa) # Añade elementos provenientes de otra lista\n",
    "print(autos)"
   ]
  },
  {
   "cell_type": "code",
   "execution_count": null,
   "id": "625d8c5f-7490-4f76-9f17-be3b3e8e8740",
   "metadata": {
    "id": "625d8c5f-7490-4f76-9f17-be3b3e8e8740"
   },
   "outputs": [],
   "source": [
    "autos.extend(autos_ue) # Añade elementos provenientes de una tupla\n",
    "print(autos)"
   ]
  },
  {
   "cell_type": "code",
   "execution_count": null,
   "id": "9da63f02-ccdc-4c5f-a9b2-543c8e9d33fb",
   "metadata": {
    "id": "9da63f02-ccdc-4c5f-a9b2-543c8e9d33fb"
   },
   "outputs": [],
   "source": [
    "autos.sort() # Ordenar una lista\n",
    "print(autos)"
   ]
  },
  {
   "cell_type": "code",
   "execution_count": null,
   "id": "4db16a66-52ad-4072-8438-ed846d5891c7",
   "metadata": {
    "id": "4db16a66-52ad-4072-8438-ed846d5891c7"
   },
   "outputs": [],
   "source": [
    "autos.reverse() # Revierten los elementos de una lista y actualiza\n",
    "print(autos)"
   ]
  },
  {
   "cell_type": "code",
   "execution_count": null,
   "id": "6d7d0468-9ebb-4a06-97b8-4da715d419fb",
   "metadata": {
    "id": "6d7d0468-9ebb-4a06-97b8-4da715d419fb"
   },
   "outputs": [],
   "source": [
    "autos.count('Renault')"
   ]
  },
  {
   "cell_type": "code",
   "execution_count": null,
   "id": "43d71fbb-0333-428c-b4c8-d3d7551c6c9f",
   "metadata": {
    "id": "43d71fbb-0333-428c-b4c8-d3d7551c6c9f"
   },
   "outputs": [],
   "source": []
  },
  {
   "cell_type": "markdown",
   "id": "d4bc7828-21d4-44c7-b9ba-b5b0dffb997f",
   "metadata": {
    "id": "d4bc7828-21d4-44c7-b9ba-b5b0dffb997f"
   },
   "source": [
    "## **19 Indices en Listas(o Tuplas)**"
   ]
  },
  {
   "cell_type": "code",
   "execution_count": null,
   "id": "c22cf8c4-e508-4bd9-89ac-276783ce5923",
   "metadata": {
    "id": "c22cf8c4-e508-4bd9-89ac-276783ce5923"
   },
   "outputs": [],
   "source": [
    "MyList = ['Mango','Orange','Banana','Apple','Grapes','Apple']"
   ]
  },
  {
   "cell_type": "markdown",
   "id": "628e18e3-370c-44a6-8e59-b1e5803cbabc",
   "metadata": {
    "id": "628e18e3-370c-44a6-8e59-b1e5803cbabc"
   },
   "source": [
    "- Forward index"
   ]
  },
  {
   "cell_type": "code",
   "execution_count": null,
   "id": "bbbaf3a6-48b2-4453-a40f-ee9c00acc87d",
   "metadata": {
    "id": "bbbaf3a6-48b2-4453-a40f-ee9c00acc87d"
   },
   "outputs": [],
   "source": [
    "MyList[0]"
   ]
  },
  {
   "cell_type": "markdown",
   "id": "d3217889-fe34-42f2-8a77-fc0d7ae53d86",
   "metadata": {
    "id": "d3217889-fe34-42f2-8a77-fc0d7ae53d86"
   },
   "source": [
    "- Reverse Index"
   ]
  },
  {
   "cell_type": "code",
   "execution_count": null,
   "id": "ae4ca576-2ff9-4826-979f-cb8d0c3733eb",
   "metadata": {
    "id": "ae4ca576-2ff9-4826-979f-cb8d0c3733eb"
   },
   "outputs": [],
   "source": [
    "MyList[-1]"
   ]
  },
  {
   "cell_type": "markdown",
   "id": "ad5fad93-e4b9-4118-bd1c-42b52d961d4f",
   "metadata": {
    "id": "ad5fad93-e4b9-4118-bd1c-42b52d961d4f"
   },
   "source": [
    "- Rango de Indices MyList[ini,end]"
   ]
  },
  {
   "cell_type": "code",
   "execution_count": null,
   "id": "24ff22fe-e032-47bd-872c-8cbff8ebb61e",
   "metadata": {
    "id": "24ff22fe-e032-47bd-872c-8cbff8ebb61e"
   },
   "outputs": [],
   "source": [
    "MyList"
   ]
  },
  {
   "cell_type": "code",
   "execution_count": null,
   "id": "77a23ad6-c363-483a-a032-fea43d18c2c5",
   "metadata": {
    "id": "77a23ad6-c363-483a-a032-fea43d18c2c5"
   },
   "outputs": [],
   "source": [
    "MyList[5]"
   ]
  },
  {
   "cell_type": "code",
   "execution_count": null,
   "id": "972fd07e-0342-4a47-9753-ab88e507e4f9",
   "metadata": {
    "id": "972fd07e-0342-4a47-9753-ab88e507e4f9"
   },
   "outputs": [],
   "source": [
    "MyList[0:3]"
   ]
  },
  {
   "cell_type": "code",
   "execution_count": null,
   "id": "b4f5fcb4-3cea-4593-a07d-f476e873cf41",
   "metadata": {
    "id": "b4f5fcb4-3cea-4593-a07d-f476e873cf41"
   },
   "outputs": [],
   "source": [
    "MyList[:3]"
   ]
  },
  {
   "cell_type": "code",
   "execution_count": null,
   "id": "f2262fa9-1d60-4876-beee-6901f589f147",
   "metadata": {
    "id": "f2262fa9-1d60-4876-beee-6901f589f147"
   },
   "outputs": [],
   "source": [
    "MyList[3:]"
   ]
  },
  {
   "cell_type": "code",
   "execution_count": null,
   "id": "266e1ecd-ef73-4abc-843c-ec62e4981996",
   "metadata": {
    "id": "266e1ecd-ef73-4abc-843c-ec62e4981996"
   },
   "outputs": [],
   "source": [
    "MyList"
   ]
  },
  {
   "cell_type": "markdown",
   "id": "aad031b3-ea63-411f-8a83-6b7485b1f82b",
   "metadata": {
    "id": "aad031b3-ea63-411f-8a83-6b7485b1f82b"
   },
   "source": [
    "- Rango de indices con salto  MyList[ini,end,step]"
   ]
  },
  {
   "cell_type": "code",
   "execution_count": null,
   "id": "23cce58b-9521-48c9-8340-e7b20e1929e6",
   "metadata": {
    "id": "23cce58b-9521-48c9-8340-e7b20e1929e6"
   },
   "outputs": [],
   "source": [
    "MyList[0:5:2]"
   ]
  },
  {
   "cell_type": "code",
   "execution_count": null,
   "id": "3b4a5768-6739-402f-b0a5-3912e4cfb40f",
   "metadata": {
    "id": "3b4a5768-6739-402f-b0a5-3912e4cfb40f"
   },
   "outputs": [],
   "source": [
    "MyList[-1:-7:-2]"
   ]
  },
  {
   "cell_type": "markdown",
   "id": "66822aa9-751a-458a-9813-dd1f49a560ee",
   "metadata": {
    "id": "66822aa9-751a-458a-9813-dd1f49a560ee"
   },
   "source": [
    "## 21 Condicionales en Python"
   ]
  },
  {
   "cell_type": "markdown",
   "id": "d5b94329-062a-421e-b338-19bbbeac9df9",
   "metadata": {
    "id": "d5b94329-062a-421e-b338-19bbbeac9df9"
   },
   "source": [
    "El condicional tiene la siguiente sintáxis"
   ]
  },
  {
   "cell_type": "markdown",
   "id": "0140bc1c-3992-4a85-a432-4e257f00aa3c",
   "metadata": {
    "id": "0140bc1c-3992-4a85-a432-4e257f00aa3c"
   },
   "source": [
    "Donde la condición es un operador que devuelve un objeto de tipo booleano. La indentacion del codigo define que parte se incluye como condicional.\n",
    "El termino \"elif\" viene de \"else if\".La condicion solo se evaluara si la condicion del \"if\" no se cumple."
   ]
  },
  {
   "cell_type": "code",
   "execution_count": null,
   "id": "5a99721f-18da-4751-b539-495e0825de14",
   "metadata": {
    "id": "5a99721f-18da-4751-b539-495e0825de14"
   },
   "outputs": [],
   "source": [
    "num = 0\n",
    "if num >= 0:\n",
    "    print('El número es positivo')\n",
    "    print(num)\n",
    "else:\n",
    "    print('el número es negativo')"
   ]
  },
  {
   "cell_type": "code",
   "execution_count": null,
   "id": "1b23b962-802b-4372-87d7-cea8ac65d536",
   "metadata": {
    "id": "1b23b962-802b-4372-87d7-cea8ac65d536"
   },
   "outputs": [],
   "source": [
    "tipo_cambio = 2.9\n",
    "\n",
    "if tipo_cambio > 4.0:\n",
    "    print(\"El dolar rompio la barrera psicologica\")\n",
    "elif (tipo_cambio <= 4) and (tipo_cambio >= 3):\n",
    "    print(\"El dolar esta dentro de los limites esperados\")\n",
    "else:\n",
    "    print(\"El dolar esta barato\")\n",
    "\n",
    "print(tipo_cambio)"
   ]
  },
  {
   "cell_type": "markdown",
   "id": "bbf36137-82d2-4e86-b39b-5d7b9a956457",
   "metadata": {
    "id": "bbf36137-82d2-4e86-b39b-5d7b9a956457"
   },
   "source": [
    "## 22 Bucles en Python"
   ]
  },
  {
   "cell_type": "markdown",
   "id": "366b6288-12a2-4db8-927b-6e4774f2ce87",
   "metadata": {
    "id": "366b6288-12a2-4db8-927b-6e4774f2ce87"
   },
   "source": [
    "El bucle For tiene la siguiente sintáxis:"
   ]
  },
  {
   "cell_type": "markdown",
   "id": "0ca08d65-893d-44cd-b162-e2fa6f308f6a",
   "metadata": {
    "id": "0ca08d65-893d-44cd-b162-e2fa6f308f6a"
   },
   "source": [
    "- Sentencia For"
   ]
  },
  {
   "cell_type": "code",
   "execution_count": null,
   "id": "01ed9a77-b83f-42ec-bf6b-d5885d20ecd5",
   "metadata": {
    "id": "01ed9a77-b83f-42ec-bf6b-d5885d20ecd5"
   },
   "outputs": [],
   "source": [
    "# Sentencia For\n",
    "primos = [2,3,5,7]\n",
    "\n",
    "for num1 in primos:\n",
    "    print(num1)\n",
    "\n",
    "for num1 in primos:\n",
    "    print (\"Es un número primo: \" + str(num1))"
   ]
  },
  {
   "cell_type": "code",
   "execution_count": null,
   "id": "97114823-74af-4ff8-9997-9d4daac6661c",
   "metadata": {
    "id": "97114823-74af-4ff8-9997-9d4daac6661c"
   },
   "outputs": [],
   "source": [
    "list(range(0,5))"
   ]
  },
  {
   "cell_type": "code",
   "execution_count": null,
   "id": "8d0bd3cb-b1cb-443c-9e52-c0c5cc47da0e",
   "metadata": {
    "id": "8d0bd3cb-b1cb-443c-9e52-c0c5cc47da0e"
   },
   "outputs": [],
   "source": [
    "list(range(3,6))"
   ]
  },
  {
   "cell_type": "code",
   "execution_count": null,
   "id": "7aed4bb6-f88e-40c1-9642-04925247f202",
   "metadata": {
    "id": "7aed4bb6-f88e-40c1-9642-04925247f202"
   },
   "outputs": [],
   "source": [
    "for x in range(5):\n",
    "    print (x)"
   ]
  },
  {
   "cell_type": "code",
   "execution_count": null,
   "id": "c8ebd1de-f22b-4b78-92d3-b890efdfc464",
   "metadata": {
    "id": "c8ebd1de-f22b-4b78-92d3-b890efdfc464"
   },
   "outputs": [],
   "source": [
    "for x in range(3,6):\n",
    "    print (x)"
   ]
  },
  {
   "cell_type": "markdown",
   "id": "4eb82de6-5fb0-4917-8895-de39a25030c7",
   "metadata": {
    "id": "4eb82de6-5fb0-4917-8895-de39a25030c7"
   },
   "source": [
    "- Sentencia While"
   ]
  },
  {
   "cell_type": "code",
   "execution_count": null,
   "id": "4cb36758-89b4-40d9-a974-f47781079594",
   "metadata": {
    "id": "4cb36758-89b4-40d9-a974-f47781079594"
   },
   "outputs": [],
   "source": [
    "count = 0\n",
    "while count < 5:\n",
    "    print (count)\n",
    "    count += 1 # Otra alternativa seria count = count + 1"
   ]
  },
  {
   "cell_type": "code",
   "execution_count": null,
   "id": "b1d32f33-3ba3-4199-a361-e0bdd5625b9f",
   "metadata": {
    "id": "b1d32f33-3ba3-4199-a361-e0bdd5625b9f"
   },
   "outputs": [],
   "source": [
    "# Sentencias break y continue\n",
    "count = 0\n",
    "while True:\n",
    "    print (count)\n",
    "    count += 1\n",
    "    if count >= 5:\n",
    "        break"
   ]
  },
  {
   "cell_type": "code",
   "execution_count": null,
   "id": "264c2e14-7e25-4da9-9e39-835d5810fa00",
   "metadata": {
    "id": "264c2e14-7e25-4da9-9e39-835d5810fa00"
   },
   "outputs": [],
   "source": [
    "for x in range(10):\n",
    "    # Check if x is even\n",
    "    if x % 2 == 0:\n",
    "        continue\n",
    "    print(x)"
   ]
  },
  {
   "cell_type": "markdown",
   "id": "9d8710b1-b1ee-4a09-a7c9-bc51b2882501",
   "metadata": {
    "id": "9d8710b1-b1ee-4a09-a7c9-bc51b2882501"
   },
   "source": [
    "## 23 Funciones definidas"
   ]
  },
  {
   "cell_type": "code",
   "execution_count": 4,
   "id": "feb94dca-e94e-4ed1-9554-f52357542968",
   "metadata": {
    "id": "feb94dca-e94e-4ed1-9554-f52357542968"
   },
   "outputs": [
    {
     "data": {
      "text/plain": [
       "[0, 1, 2, 3, 4]"
      ]
     },
     "execution_count": 4,
     "metadata": {},
     "output_type": "execute_result"
    }
   ],
   "source": [
    "list(range(5))"
   ]
  },
  {
   "cell_type": "code",
   "execution_count": 5,
   "id": "08323479-1c8e-4d94-8563-83f007c93480",
   "metadata": {
    "id": "08323479-1c8e-4d94-8563-83f007c93480"
   },
   "outputs": [
    {
     "name": "stdout",
     "output_type": "stream",
     "text": [
      "Help on built-in function len in module builtins:\n",
      "\n",
      "len(obj, /)\n",
      "    Return the number of items in a container.\n",
      "\n"
     ]
    }
   ],
   "source": [
    "help(len)"
   ]
  },
  {
   "cell_type": "code",
   "execution_count": 6,
   "id": "ce8d0509-cf90-4882-a61d-539f51ba4822",
   "metadata": {
    "id": "ce8d0509-cf90-4882-a61d-539f51ba4822"
   },
   "outputs": [
    {
     "data": {
      "text/plain": [
       "\u001b[1;31mSignature:\u001b[0m \u001b[0mlen\u001b[0m\u001b[1;33m(\u001b[0m\u001b[0mobj\u001b[0m\u001b[1;33m,\u001b[0m \u001b[1;33m/\u001b[0m\u001b[1;33m)\u001b[0m\u001b[1;33m\u001b[0m\u001b[1;33m\u001b[0m\u001b[0m\n",
       "\u001b[1;31mDocstring:\u001b[0m Return the number of items in a container.\n",
       "\u001b[1;31mType:\u001b[0m      builtin_function_or_method"
      ]
     },
     "metadata": {},
     "output_type": "display_data"
    }
   ],
   "source": [
    "?len"
   ]
  },
  {
   "cell_type": "code",
   "execution_count": null,
   "id": "13b0020a-2c5e-4876-a22f-0ecb179138b7",
   "metadata": {
    "id": "13b0020a-2c5e-4876-a22f-0ecb179138b7"
   },
   "outputs": [],
   "source": []
  },
  {
   "cell_type": "markdown",
   "id": "46f3f3d7-ffb6-4e2d-a7dc-97ba55439a09",
   "metadata": {
    "id": "46f3f3d7-ffb6-4e2d-a7dc-97ba55439a09"
   },
   "source": [
    "Ya vimos algunas funciones, como print(), range(), type() o help().\n",
    "Pero supongamos que quiero una función que haga otra cosa, como calcularme el promedio entre tres números.\n",
    "Si no conocemos ninguna función que pueda realizar este calculo, podemos crearla\n",
    "Para esto utiliuzamos las palabra def para definir una nueva función y return para indicar que devuelva un cierto valor"
   ]
  },
  {
   "cell_type": "markdown",
   "id": "4800983e-3d91-46f1-816e-c9f0027ac328",
   "metadata": {
    "id": "4800983e-3d91-46f1-816e-c9f0027ac328"
   },
   "source": [
    "- Suma de Cuadrados"
   ]
  },
  {
   "cell_type": "code",
   "execution_count": 3,
   "id": "01f81e6e-7bef-4ff4-b0bf-7d50ae8573d0",
   "metadata": {
    "id": "01f81e6e-7bef-4ff4-b0bf-7d50ae8573d0"
   },
   "outputs": [],
   "source": [
    "def suma_cuadrados(a,b):\n",
    "    resultado = a**2 + 2*a*b + b**2\n",
    "    return resultado"
   ]
  },
  {
   "cell_type": "code",
   "execution_count": 2,
   "id": "1014049f-0730-4906-8ff0-0c2e179bc286",
   "metadata": {
    "id": "1014049f-0730-4906-8ff0-0c2e179bc286"
   },
   "outputs": [
    {
     "name": "stdout",
     "output_type": "stream",
     "text": [
      "Variable         Type        Data/Info\n",
      "--------------------------------------\n",
      "suma_cuadrados   function    <function suma_cuadrados at 0x0000022B09165F80>\n"
     ]
    }
   ],
   "source": [
    "%whos function"
   ]
  },
  {
   "cell_type": "code",
   "execution_count": null,
   "id": "484f736b-bc86-45fd-8c67-b2e922c1b218",
   "metadata": {
    "id": "484f736b-bc86-45fd-8c67-b2e922c1b218"
   },
   "outputs": [],
   "source": [
    "suma_cuadrados(3,4)"
   ]
  },
  {
   "cell_type": "markdown",
   "id": "4f30cef6-91df-494d-9b7c-a1d0e0a3fec3",
   "metadata": {
    "id": "4f30cef6-91df-494d-9b7c-a1d0e0a3fec3"
   },
   "source": [
    "- Promedio de 3 números"
   ]
  },
  {
   "cell_type": "code",
   "execution_count": null,
   "id": "a60f85aa-cd6d-49a4-8062-3f69ce56207e",
   "metadata": {
    "id": "a60f85aa-cd6d-49a4-8062-3f69ce56207e"
   },
   "outputs": [],
   "source": [
    "def promedio_3_num(a,b,c):\n",
    "    promedio = (a+b+c)/3\n",
    "    return promedio"
   ]
  },
  {
   "cell_type": "code",
   "execution_count": null,
   "id": "187ce088-73a6-4948-bc8c-fda7eae6ae10",
   "metadata": {
    "id": "187ce088-73a6-4948-bc8c-fda7eae6ae10"
   },
   "outputs": [],
   "source": [
    "%whos function"
   ]
  },
  {
   "cell_type": "code",
   "execution_count": null,
   "id": "5ad741ce-3bd3-4b41-a3e0-1c4cc6700096",
   "metadata": {
    "id": "5ad741ce-3bd3-4b41-a3e0-1c4cc6700096"
   },
   "outputs": [],
   "source": [
    "promedio_3_num(14,16,18)"
   ]
  },
  {
   "cell_type": "code",
   "execution_count": null,
   "id": "2e0270dc-4aeb-40d2-a65d-eeed13df1c02",
   "metadata": {
    "id": "2e0270dc-4aeb-40d2-a65d-eeed13df1c02"
   },
   "outputs": [],
   "source": [
    "promedio_3_num(110,180,250)"
   ]
  },
  {
   "cell_type": "markdown",
   "id": "f27dbd06-c959-4e3e-82d8-ca20df20c255",
   "metadata": {
    "id": "f27dbd06-c959-4e3e-82d8-ca20df20c255"
   },
   "source": [
    "Ahora podemos *llamar* a esta funcion a traves del nombre de la funcion y los parametros"
   ]
  },
  {
   "cell_type": "code",
   "execution_count": null,
   "id": "c19739bd-fb9b-46b8-a3ae-3d060547c175",
   "metadata": {
    "id": "c19739bd-fb9b-46b8-a3ae-3d060547c175"
   },
   "outputs": [],
   "source": [
    "promedio_3_num(-1,-5,10)"
   ]
  },
  {
   "cell_type": "code",
   "execution_count": null,
   "id": "800b5c1c-3b10-4f1f-beee-559bbf117bc1",
   "metadata": {
    "id": "800b5c1c-3b10-4f1f-beee-559bbf117bc1"
   },
   "outputs": [],
   "source": [
    "promedio_3_num(10,15,20)"
   ]
  },
  {
   "cell_type": "code",
   "execution_count": null,
   "id": "9e2119e7-92c2-4ce3-96d8-3c0da419512e",
   "metadata": {
    "id": "9e2119e7-92c2-4ce3-96d8-3c0da419512e"
   },
   "outputs": [],
   "source": [
    "valor = promedio_3_num(30,40,50)\n",
    "print(valor)"
   ]
  }
 ],
 "metadata": {
  "colab": {
   "provenance": []
  },
  "kernelspec": {
   "display_name": "Python 3 (ipykernel)",
   "language": "python",
   "name": "python3"
  },
  "language_info": {
   "codemirror_mode": {
    "name": "ipython",
    "version": 3
   },
   "file_extension": ".py",
   "mimetype": "text/x-python",
   "name": "python",
   "nbconvert_exporter": "python",
   "pygments_lexer": "ipython3",
   "version": "3.11.7"
  }
 },
 "nbformat": 4,
 "nbformat_minor": 5
}
