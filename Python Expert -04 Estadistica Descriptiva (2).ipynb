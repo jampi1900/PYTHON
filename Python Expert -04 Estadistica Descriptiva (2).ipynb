{
 "cells": [
  {
   "cell_type": "markdown",
   "id": "6256eb2c-ff43-4b44-873e-5e8e9af84005",
   "metadata": {},
   "source": [
    "<h1> Estadistica Descriptiva</h1>"
   ]
  },
  {
   "cell_type": "markdown",
   "id": "a98201b0-f2f4-4f4b-8a69-da426fa5afcd",
   "metadata": {},
   "source": [
    "<b>1. Numeros Aleatorios en Numpy"
   ]
  },
  {
   "cell_type": "code",
   "execution_count": 40,
   "id": "317e3a2c-a734-4c23-8a20-342b26d2b9e0",
   "metadata": {},
   "outputs": [],
   "source": [
    "import numpy as np"
   ]
  },
  {
   "cell_type": "code",
   "execution_count": 41,
   "id": "256bea07-52bc-4b35-80e7-655e72966df8",
   "metadata": {},
   "outputs": [],
   "source": [
    "import seaborn as sns \n",
    "import matplotlib.pyplot as plt"
   ]
  },
  {
   "cell_type": "markdown",
   "id": "b0df880d-58b9-4780-a735-e84ada58a9a7",
   "metadata": {},
   "source": [
    "<li> Generación de numeros aleatorios "
   ]
  },
  {
   "cell_type": "code",
   "execution_count": 42,
   "id": "8222ae00-07b7-43e2-8d40-9262f8c4c3ac",
   "metadata": {},
   "outputs": [
    {
     "name": "stdout",
     "output_type": "stream",
     "text": [
      "0\n"
     ]
    }
   ],
   "source": [
    "aleatorio_int=np.random.randint(5) # Generar un número aleatorio del 0 al 4(5 no esta incluido)\n",
    "print(aleatorio_int)"
   ]
  },
  {
   "cell_type": "code",
   "execution_count": 43,
   "id": "0588f042-c8ff-446c-86a3-15bb3071585c",
   "metadata": {},
   "outputs": [
    {
     "name": "stdout",
     "output_type": "stream",
     "text": [
      "0.1794031804609154\n"
     ]
    }
   ],
   "source": [
    "aleatorio_float=np.random.random() # Generar un numero aleatorio 0 al 1\n",
    "print(aleatorio_float)"
   ]
  },
  {
   "cell_type": "code",
   "execution_count": 44,
   "id": "b69c8c48-7984-42fa-b9b5-4cf406e5ea79",
   "metadata": {},
   "outputs": [
    {
     "name": "stdout",
     "output_type": "stream",
     "text": [
      "Z\n"
     ]
    }
   ],
   "source": [
    "aleatorio_rango=np.random.choice([1,3,5,7,9.5,10.4,17.7,'A','P','Z']) # Generar un valor aleatorio de una lista de valores\n",
    "print(aleatorio_rango)"
   ]
  },
  {
   "cell_type": "markdown",
   "id": "83b4c951-c6be-4699-aead-eb2f30fa7d91",
   "metadata": {},
   "source": [
    "<li>Generacion de un vector de Numeros Aleatorios</li>"
   ]
  },
  {
   "cell_type": "code",
   "execution_count": 45,
   "id": "8e03a53c-1eac-44dd-aa86-96ad7d9458db",
   "metadata": {},
   "outputs": [
    {
     "name": "stdout",
     "output_type": "stream",
     "text": [
      "[78 50 54 24 74]\n"
     ]
    }
   ],
   "source": [
    "arreglo_aleat_enteros=np.random.randint(100, size=(5))\n",
    "print(arreglo_aleat_enteros)"
   ]
  },
  {
   "cell_type": "code",
   "execution_count": 46,
   "id": "ba72a276-ac8c-44d9-b2bd-52ecc7f25ce9",
   "metadata": {},
   "outputs": [
    {
     "name": "stdout",
     "output_type": "stream",
     "text": [
      "[0.14369959 0.96920666 0.31380227]\n"
     ]
    }
   ],
   "source": [
    "arreglo_aleat_float=np.random.random(size=(3))\n",
    "print(arreglo_aleat_float)"
   ]
  },
  {
   "cell_type": "code",
   "execution_count": 47,
   "id": "deac6690-c4dd-497a-a36c-553e3d1c490b",
   "metadata": {},
   "outputs": [
    {
     "name": "stdout",
     "output_type": "stream",
     "text": [
      "[14  2 14 20]\n"
     ]
    }
   ],
   "source": [
    "arreglo_aleat_float=np.random.choice([2,4,6,8,12,14,16,18,20],size=(4))\n",
    "print(arreglo_aleat_float)"
   ]
  },
  {
   "cell_type": "markdown",
   "id": "8b79c26f-0f50-4d7d-9d09-d3cd41567d83",
   "metadata": {},
   "source": [
    "<li>Generacion de un arreglo 2D de Números Aleatorios</li>"
   ]
  },
  {
   "cell_type": "code",
   "execution_count": 48,
   "id": "2eca8afb-d8fc-445f-b3ed-fc37934a985b",
   "metadata": {},
   "outputs": [
    {
     "name": "stdout",
     "output_type": "stream",
     "text": [
      "[[52 45 42]\n",
      " [15 56 83]\n",
      " [ 7 98 83]]\n"
     ]
    }
   ],
   "source": [
    "arreglo_aleat_enteros=np.random.randint(100, size=(3,3))\n",
    "print(arreglo_aleat_enteros)"
   ]
  },
  {
   "cell_type": "code",
   "execution_count": 49,
   "id": "c4b7ada3-2d35-489f-bf54-d83f0fb6d11d",
   "metadata": {},
   "outputs": [
    {
     "name": "stdout",
     "output_type": "stream",
     "text": [
      "[[0.50286766 0.88989246 0.06658965]\n",
      " [0.62504263 0.34683971 0.1044109 ]]\n"
     ]
    }
   ],
   "source": [
    "arreglo_aleat_float=np.random.random(size=(2,3))\n",
    "print(arreglo_aleat_float)"
   ]
  },
  {
   "cell_type": "code",
   "execution_count": 50,
   "id": "bbc9852e-fb96-42c2-bd09-08529e351aec",
   "metadata": {},
   "outputs": [
    {
     "name": "stdout",
     "output_type": "stream",
     "text": [
      "[[14 14]\n",
      " [16  8]\n",
      " [ 8 18]\n",
      " [12 18]]\n"
     ]
    }
   ],
   "source": [
    "arreglo_aleat_enteros=np.random.choice([2,4,6,8,10,12,14,16,18,20], size=(4,2))\n",
    "print(arreglo_aleat_enteros)"
   ]
  },
  {
   "cell_type": "markdown",
   "id": "c48e5b1e-7dca-4509-baaa-9af80f8d27a0",
   "metadata": {},
   "source": [
    "<li>Semilla aleatoria</li>"
   ]
  },
  {
   "cell_type": "code",
   "execution_count": 51,
   "id": "b406aaf2-b88e-4d4c-b477-9cf2745ece1f",
   "metadata": {},
   "outputs": [
    {
     "name": "stdout",
     "output_type": "stream",
     "text": [
      "0.08993909047894177\n"
     ]
    }
   ],
   "source": [
    "aleatorio = np.random.random()\n",
    "print(aleatorio)"
   ]
  },
  {
   "cell_type": "code",
   "execution_count": 52,
   "id": "1f540be3-e87b-4a2c-a926-3eae768e830c",
   "metadata": {},
   "outputs": [
    {
     "name": "stdout",
     "output_type": "stream",
     "text": [
      "0.417022004702574\n"
     ]
    }
   ],
   "source": [
    "np.random.seed(1)   #semilla aleatoria\n",
    "aleatorio = np.random.random()\n",
    "print(aleatorio)"
   ]
  },
  {
   "cell_type": "markdown",
   "id": "c27ed7ef-0241-4143-95c0-874d8c29d08d",
   "metadata": {},
   "source": [
    "<h1>Distribución Binomial</h1>"
   ]
  },
  {
   "cell_type": "markdown",
   "id": "7edadbd6-edcf-4bb7-a749-1a615edefea3",
   "metadata": {},
   "source": [
    "binomial(n,p,size=None)"
   ]
  },
  {
   "cell_type": "code",
   "execution_count": 53,
   "id": "16fdca6c-56fb-4c9c-90e7-a2cd86809d36",
   "metadata": {},
   "outputs": [
    {
     "data": {
      "text/plain": [
       "6"
      ]
     },
     "execution_count": 53,
     "metadata": {},
     "output_type": "execute_result"
    }
   ],
   "source": [
    "aleat=np.random.binomial(n=10,p=0.5)\n",
    "aleat"
   ]
  },
  {
   "cell_type": "code",
   "execution_count": 54,
   "id": "5edf2cd5-56fa-44d2-ae38-c0e9a4835800",
   "metadata": {},
   "outputs": [
    {
     "data": {
      "text/plain": [
       "array([0, 4, 3, 3, 4, 4, 5, 5, 5, 6, 4, 7, 2, 6, 5, 5, 3, 4, 6, 8, 4, 6,\n",
       "       7, 7, 3, 2, 3, 7, 3, 5, 8, 5, 6, 4, 6, 7, 2, 6, 8, 6, 4, 6, 3, 5,\n",
       "       7, 4, 4, 3, 2, 6, 4, 4, 5, 2, 5, 3, 5, 6, 3, 5, 6, 5, 2, 5, 6, 5,\n",
       "       7, 5, 7, 3, 3, 6, 5, 3, 7, 4, 6, 6, 7, 6, 6, 4, 4, 7, 5, 8, 6, 5,\n",
       "       3, 8, 5, 5, 5, 4, 7, 5, 1, 5, 4, 5, 7, 4, 7, 6, 2, 7, 6, 9, 4, 3,\n",
       "       7, 6, 3, 6, 6, 7, 6, 3, 2, 2, 2, 4, 7, 5, 5, 7, 3, 4, 5, 8, 5, 2,\n",
       "       6, 4, 6, 5, 7, 6, 5, 3, 3, 3, 2, 3, 4, 6, 5, 2, 3, 8, 5, 4, 4, 6,\n",
       "       4, 5, 8, 7, 4, 5, 5, 7, 3, 2, 3, 5, 5, 5, 4, 8, 5, 5, 5, 6, 6, 4,\n",
       "       3, 4, 6, 4, 6, 3, 4, 6, 4, 6, 5, 7, 4, 3, 6, 6, 7, 7, 2, 4, 5, 8,\n",
       "       8, 5, 7, 6, 5, 5, 5, 5, 7, 7, 5, 8, 4, 3, 3, 5, 2, 8, 6, 2, 4, 4,\n",
       "       3, 6, 4, 7, 5, 7, 7, 7, 5, 5, 6, 4, 5, 5, 2, 5, 5, 6, 4, 7, 5, 4,\n",
       "       6, 5, 2, 5, 6, 7, 0, 8, 4, 8, 5, 7, 5, 6, 4, 5, 6, 7, 6, 6, 7, 4,\n",
       "       6, 5, 5, 5, 5, 4, 5, 5, 8, 6, 4, 5, 4, 6, 7, 7, 6, 4, 4, 7, 5, 6,\n",
       "       5, 6, 5, 6, 5, 5, 4, 3, 5, 3, 8, 4, 6, 7, 6, 5, 3, 5, 4, 4, 5, 4,\n",
       "       7, 7, 4, 3, 4, 5, 6, 4, 4, 7, 5, 5, 4, 3, 5, 5, 3, 5, 5, 6, 3, 6,\n",
       "       4, 5, 6, 2, 4, 7, 7, 5, 7, 8, 6, 7, 3, 6, 6, 5, 6, 2, 6, 6, 4, 4,\n",
       "       6, 4, 6, 5, 6, 9, 4, 3, 7, 5, 8, 6, 9, 5, 5, 3, 4, 2, 3, 6, 2, 4,\n",
       "       7, 6, 6, 4, 5, 5, 9, 4, 4, 4, 6, 5, 3, 5, 4, 6, 4, 2, 5, 7, 5, 6,\n",
       "       5, 5, 8, 6, 2, 6, 5, 8, 4, 4, 3, 5, 3, 6, 6, 6, 6, 4, 7, 5, 6, 6,\n",
       "       3, 3, 2, 3, 5, 3, 2, 6, 5, 6, 5, 5, 5, 5, 6, 5, 7, 2, 6, 3, 5, 1,\n",
       "       5, 1, 8, 7, 6, 7, 3, 3, 4, 5, 7, 9, 6, 6, 7, 5, 4, 4, 3, 6, 3, 4,\n",
       "       6, 4, 8, 4, 5, 4, 7, 4, 5, 5, 7, 2, 6, 7, 2, 5, 4, 7, 5, 6, 5, 6,\n",
       "       4, 1, 5, 4, 5, 7, 5, 4, 4, 7, 7, 7, 7, 4, 3, 4, 4, 4, 5, 5, 6, 4,\n",
       "       6, 4, 5, 4, 3, 4, 6, 5, 5, 4, 5, 9, 6, 5, 8, 7, 5, 2, 3, 3, 5, 4,\n",
       "       8, 3, 8, 6, 6, 6, 6, 5, 2, 4, 5, 6, 5, 5, 3, 2, 6, 4, 8, 4, 4, 5,\n",
       "       6, 5, 3, 4, 5, 6, 6, 3, 2, 5, 6, 2, 6, 6, 5, 7, 6, 1, 5, 7, 7, 6,\n",
       "       6, 5, 4, 5, 6, 4, 7, 4, 6, 4, 6, 5, 6, 4, 4, 6, 4, 6, 6, 4, 4, 4,\n",
       "       3, 5, 2, 3, 6, 6, 3, 4, 4, 7, 6, 5, 4, 7, 5, 7, 6, 5, 3, 8, 3, 4,\n",
       "       5, 5, 3, 6, 4, 6, 6, 4, 5, 6, 6, 5, 4, 6, 7, 5, 6, 3, 7, 4, 5, 4,\n",
       "       3, 7, 4, 5, 5, 3, 4, 3, 5, 4, 4, 3, 6, 3, 8, 4, 5, 2, 6, 4, 5, 6,\n",
       "       3, 5, 4, 6, 6, 4, 7, 2, 7, 5, 5, 6, 6, 8, 4, 1, 7, 7, 6, 5, 6, 6,\n",
       "       4, 6, 6, 5, 5, 6, 1, 6, 7, 4, 3, 4, 4, 7, 5, 4, 3, 4, 5, 4, 5, 5,\n",
       "       7, 5, 4, 6, 4, 5, 4, 6, 7, 5, 6, 5, 6, 3, 5, 7, 5, 6, 5, 5, 7, 3,\n",
       "       5, 7, 5, 4, 7, 4, 6, 5, 8, 6, 7, 1, 9, 3, 4, 8, 1, 6, 7, 5, 4, 6,\n",
       "       5, 3, 7, 7, 5, 7, 5, 6, 5, 5, 4, 8, 4, 3, 3, 2, 6, 5, 6, 5, 6, 6,\n",
       "       6, 5, 6, 4, 4, 4, 5, 4, 5, 8, 4, 8, 6, 4, 7, 5, 4, 6, 5, 4, 4, 6,\n",
       "       4, 6, 4, 5, 5, 7, 7, 4, 5, 7, 5, 7, 4, 5, 6, 4, 2, 5, 7, 4, 6, 4,\n",
       "       4, 3, 6, 6, 6, 4, 6, 4, 5, 4, 4, 3, 6, 6, 5, 6, 3, 3, 5, 7, 4, 5,\n",
       "       5, 5, 3, 4, 4, 7, 6, 5, 5, 3, 5, 4, 7, 6, 6, 3, 5, 8, 8, 6, 3, 6,\n",
       "       5, 5, 5, 5, 7, 6, 5, 7, 3, 9, 2, 4, 5, 3, 6, 2, 4, 3, 6, 6, 5, 4,\n",
       "       6, 4, 6, 5, 5, 2, 6, 4, 4, 5, 5, 5, 8, 4, 6, 5, 7, 4, 4, 7, 2, 8,\n",
       "       5, 4, 9, 3, 5, 2, 5, 4, 6, 8, 7, 5, 6, 6, 5, 5, 3, 4, 3, 6, 5, 5,\n",
       "       7, 5, 5, 4, 3, 5, 2, 4, 5, 8, 3, 6, 5, 6, 3, 3, 5, 6, 4, 6, 4, 4,\n",
       "       2, 5, 5, 6, 3, 3, 2, 3, 6, 5, 4, 5, 9, 7, 6, 7, 2, 3, 5, 4, 7, 5,\n",
       "       5, 7, 5, 7, 4, 4, 4, 5, 4, 6, 3, 3, 7, 4, 5, 5, 5, 3, 7, 8, 6, 4,\n",
       "       5, 4, 5, 8, 4, 6, 4, 6, 4, 7])"
      ]
     },
     "execution_count": 54,
     "metadata": {},
     "output_type": "execute_result"
    }
   ],
   "source": [
    "np.random.binomial(n=10,p=0.5,size=1000)"
   ]
  },
  {
   "cell_type": "code",
   "execution_count": 55,
   "id": "ad7f7dd0-5bd7-4098-a110-7d99e32a6760",
   "metadata": {},
   "outputs": [
    {
     "name": "stderr",
     "output_type": "stream",
     "text": [
      "C:\\Users\\HP\\anaconda3\\Lib\\site-packages\\seaborn\\_oldcore.py:1119: FutureWarning: use_inf_as_na option is deprecated and will be removed in a future version. Convert inf values to NaN before operating instead.\n",
      "  with pd.option_context('mode.use_inf_as_na', True):\n"
     ]
    },
    {
     "data": {
      "image/png": "[encoded data removed]",
      "text/plain": [
       "<Figure size 500x500 with 1 Axes>"
      ]
     },
     "metadata": {},
     "output_type": "display_data"
    }
   ],
   "source": [
    "sns.displot(np.random.binomial(n=10,p=0.5,size=1000))\n",
    "plt.show()"
   ]
  },
  {
   "cell_type": "markdown",
   "id": "7e48ba24-3412-4911-a2a0-f2bbcab82100",
   "metadata": {},
   "source": [
    "<h1>Distribución Chi Cuadrado</h1>"
   ]
  },
  {
   "cell_type": "markdown",
   "id": "468564f7-9cd2-4777-a182-adf13d65cf4b",
   "metadata": {},
   "source": [
    "chisquare(df,size=None)"
   ]
  },
  {
   "cell_type": "code",
   "execution_count": 56,
   "id": "101da60a-b280-4a11-beef-76ef259d5020",
   "metadata": {},
   "outputs": [
    {
     "data": {
      "text/plain": [
       "0.7747507499116792"
      ]
     },
     "execution_count": 56,
     "metadata": {},
     "output_type": "execute_result"
    }
   ],
   "source": [
    "aleat=np.random.chisquare(df=1)\n",
    "aleat"
   ]
  },
  {
   "cell_type": "code",
   "execution_count": 57,
   "id": "33fff09e-23e5-4176-bcbf-463a3388dc08",
   "metadata": {},
   "outputs": [
    {
     "name": "stderr",
     "output_type": "stream",
     "text": [
      "C:\\Users\\HP\\anaconda3\\Lib\\site-packages\\seaborn\\_oldcore.py:1119: FutureWarning: use_inf_as_na option is deprecated and will be removed in a future version. Convert inf values to NaN before operating instead.\n",
      "  with pd.option_context('mode.use_inf_as_na', True):\n"
     ]
    },
    {
     "data": {
      "image/png": "[encoded data removed]",
      "text/plain": [
       "<Figure size 500x500 with 1 Axes>"
      ]
     },
     "metadata": {},
     "output_type": "display_data"
    }
   ],
   "source": [
    "sns.displot(np.random.chisquare(df=1, size=1000))\n",
    "plt.show()"
   ]
  },
  {
   "cell_type": "markdown",
   "id": "79cf5b87-7a52-49b0-bf76-1d728463765c",
   "metadata": {},
   "source": [
    "<h1>Distribución Exponencial</h1>"
   ]
  },
  {
   "cell_type": "markdown",
   "id": "43a81dcc-bc0f-4d08-81ef-ab4ab2755e9e",
   "metadata": {},
   "source": [
    "exponential(df, size=None)"
   ]
  },
  {
   "cell_type": "code",
   "execution_count": 58,
   "id": "8318b992-1a32-44e2-991d-2ad578af8f41",
   "metadata": {},
   "outputs": [
    {
     "data": {
      "text/plain": [
       "1.480561825094317"
      ]
     },
     "execution_count": 58,
     "metadata": {},
     "output_type": "execute_result"
    }
   ],
   "source": [
    "aleat=np.random.exponential(scale=1)\n",
    "aleat"
   ]
  },
  {
   "cell_type": "code",
   "execution_count": 59,
   "id": "67c4097d-d8f8-4555-b803-42b77ec08be1",
   "metadata": {},
   "outputs": [
    {
     "name": "stderr",
     "output_type": "stream",
     "text": [
      "C:\\Users\\HP\\anaconda3\\Lib\\site-packages\\seaborn\\_oldcore.py:1119: FutureWarning: use_inf_as_na option is deprecated and will be removed in a future version. Convert inf values to NaN before operating instead.\n",
      "  with pd.option_context('mode.use_inf_as_na', True):\n"
     ]
    },
    {
     "data": {
      "image/png": "[encoded data removed]",
      "text/plain": [
       "<Figure size 500x500 with 1 Axes>"
      ]
     },
     "metadata": {},
     "output_type": "display_data"
    }
   ],
   "source": [
    "sns.displot(np.random.exponential(scale=1, size=1000))\n",
    "plt.show()"
   ]
  },
  {
   "cell_type": "markdown",
   "id": "5d75fd1a-4633-42e0-9801-fe77c6d7e7f9",
   "metadata": {},
   "source": [
    "<h1>Distribucion F</h1>"
   ]
  },
  {
   "cell_type": "markdown",
   "id": "c0c0f003-605b-47e1-b948-23d73508b111",
   "metadata": {},
   "source": [
    "f(dfnum, dfden,size=None)"
   ]
  },
  {
   "cell_type": "code",
   "execution_count": 60,
   "id": "fde4490d-0338-46df-a970-d3627402ca52",
   "metadata": {},
   "outputs": [
    {
     "data": {
      "text/plain": [
       "0.16861377790675608"
      ]
     },
     "execution_count": 60,
     "metadata": {},
     "output_type": "execute_result"
    }
   ],
   "source": [
    "dfnum= 1\n",
    "dfden = 48\n",
    "aleat = np.random.f(dfnum, dfden)\n",
    "aleat"
   ]
  },
  {
   "cell_type": "code",
   "execution_count": 61,
   "id": "9e3a30e4-2572-4feb-aae7-e1082b02376c",
   "metadata": {},
   "outputs": [
    {
     "name": "stderr",
     "output_type": "stream",
     "text": [
      "C:\\Users\\HP\\anaconda3\\Lib\\site-packages\\seaborn\\_oldcore.py:1119: FutureWarning: use_inf_as_na option is deprecated and will be removed in a future version. Convert inf values to NaN before operating instead.\n",
      "  with pd.option_context('mode.use_inf_as_na', True):\n"
     ]
    },
    {
     "data": {
      "image/png": "[encoded data removed]",
      "text/plain": [
       "<Figure size 500x500 with 1 Axes>"
      ]
     },
     "metadata": {},
     "output_type": "display_data"
    }
   ],
   "source": [
    "sns.displot(np.random.f(1,48, size=1000))\n",
    "plt.show()"
   ]
  },
  {
   "cell_type": "markdown",
   "id": "d08816a0-4c65-4b0e-995f-c1bf0c672d73",
   "metadata": {},
   "source": [
    "<h1>Distribucion Normal</h1>"
   ]
  },
  {
   "cell_type": "markdown",
   "id": "72227b3a-dac7-4ed6-b857-3f5b7d07b7c1",
   "metadata": {},
   "source": [
    "normal(loc=0.0 scale=1.0sieze=none)"
   ]
  },
  {
   "cell_type": "code",
   "execution_count": 62,
   "id": "4ed35310-7ba4-4812-9d72-34a214f3c488",
   "metadata": {},
   "outputs": [
    {
     "data": {
      "text/plain": [
       "-0.08557919727488048"
      ]
     },
     "execution_count": 62,
     "metadata": {},
     "output_type": "execute_result"
    }
   ],
   "source": [
    "aleat = np.random.normal(loc = 0, scale = 1)\n",
    "aleat"
   ]
  },
  {
   "cell_type": "code",
   "execution_count": 63,
   "id": "5e942e4a-f12f-4925-884a-d2b3ad0905ae",
   "metadata": {},
   "outputs": [
    {
     "name": "stderr",
     "output_type": "stream",
     "text": [
      "C:\\Users\\HP\\anaconda3\\Lib\\site-packages\\seaborn\\_oldcore.py:1119: FutureWarning: use_inf_as_na option is deprecated and will be removed in a future version. Convert inf values to NaN before operating instead.\n",
      "  with pd.option_context('mode.use_inf_as_na', True):\n"
     ]
    },
    {
     "data": {
      "image/png": "[encoded data removed]",
      "text/plain": [
       "<Figure size 500x500 with 1 Axes>"
      ]
     },
     "metadata": {},
     "output_type": "display_data"
    }
   ],
   "source": [
    "sns.displot(np.random.normal(size=10000))\n",
    "plt.show()"
   ]
  },
  {
   "cell_type": "markdown",
   "id": "5a656b2b-fd10-4e7e-836d-03946f0e66f6",
   "metadata": {},
   "source": [
    "<h1>Distribución Log Normal</h1>"
   ]
  },
  {
   "cell_type": "markdown",
   "id": "0e9e41cc-be03-45a7-8e70-771e710a2597",
   "metadata": {},
   "source": [
    " lognormal(mean=0.0,sigma=1,size=None)"
   ]
  },
  {
   "cell_type": "code",
   "execution_count": 64,
   "id": "f6f99e20-20ea-413e-aef0-34a7cbb6e978",
   "metadata": {},
   "outputs": [
    {
     "name": "stderr",
     "output_type": "stream",
     "text": [
      "C:\\Users\\HP\\anaconda3\\Lib\\site-packages\\seaborn\\_oldcore.py:1119: FutureWarning: use_inf_as_na option is deprecated and will be removed in a future version. Convert inf values to NaN before operating instead.\n",
      "  with pd.option_context('mode.use_inf_as_na', True):\n"
     ]
    },
    {
     "data": {
      "image/png": "[encoded data removed]",
      "text/plain": [
       "<Figure size 500x500 with 1 Axes>"
      ]
     },
     "metadata": {},
     "output_type": "display_data"
    }
   ],
   "source": [
    "sns.displot(np.random.lognormal(size=1000))\n",
    "plt.show()"
   ]
  },
  {
   "cell_type": "markdown",
   "id": "c6ea1be3-bd22-43bd-b328-687e1b02bbfe",
   "metadata": {},
   "source": [
    "<h1>Distribucion Uniforme</h1>"
   ]
  },
  {
   "cell_type": "markdown",
   "id": "080e97b8-02ac-45ea-8869-9206061c9e04",
   "metadata": {},
   "source": [
    "uniforme(low=0.0,high=1,size=None)"
   ]
  },
  {
   "cell_type": "code",
   "execution_count": 65,
   "id": "fc95598e-2802-4005-b19f-67582b20abb4",
   "metadata": {},
   "outputs": [
    {
     "data": {
      "text/plain": [
       "17.34587153147399"
      ]
     },
     "execution_count": 65,
     "metadata": {},
     "output_type": "execute_result"
    }
   ],
   "source": [
    "aleat=np.random.uniform(low=10,high=20)\n",
    "aleat"
   ]
  },
  {
   "cell_type": "code",
   "execution_count": 67,
   "id": "26808126-cd66-4e21-98c3-92d17fc108f6",
   "metadata": {},
   "outputs": [
    {
     "name": "stderr",
     "output_type": "stream",
     "text": [
      "C:\\Users\\HP\\anaconda3\\Lib\\site-packages\\seaborn\\_oldcore.py:1119: FutureWarning: use_inf_as_na option is deprecated and will be removed in a future version. Convert inf values to NaN before operating instead.\n",
      "  with pd.option_context('mode.use_inf_as_na', True):\n"
     ]
    },
    {
     "data": {
      "image/png": "[encoded data removed]",
      "text/plain": [
       "<Figure size 500x500 with 1 Axes>"
      ]
     },
     "metadata": {},
     "output_type": "display_data"
    }
   ],
   "source": [
    "sns.displot(np.random.uniform(low=10,high=20, size=10000))\n",
    "plt.show()"
   ]
  },
  {
   "cell_type": "markdown",
   "id": "417c4d93-c776-4f14-979b-36a4fcc879f3",
   "metadata": {},
   "source": [
    "<h1>Distribucion Poisson</h1>"
   ]
  },
  {
   "cell_type": "markdown",
   "id": "5be4b634-be3b-425c-93b0-00b5da7b6216",
   "metadata": {},
   "source": [
    "poisson(lam=1.0,size=None)"
   ]
  },
  {
   "cell_type": "code",
   "execution_count": 68,
   "id": "2f91d144-2c48-4e40-a7d6-00e884193c45",
   "metadata": {},
   "outputs": [
    {
     "data": {
      "text/plain": [
       "1"
      ]
     },
     "execution_count": 68,
     "metadata": {},
     "output_type": "execute_result"
    }
   ],
   "source": [
    "np.random.poisson(lam=1)"
   ]
  },
  {
   "cell_type": "code",
   "execution_count": 69,
   "id": "f0ad5d8d-c8d5-4734-94ff-3aa8f1f05217",
   "metadata": {},
   "outputs": [
    {
     "name": "stderr",
     "output_type": "stream",
     "text": [
      "C:\\Users\\HP\\anaconda3\\Lib\\site-packages\\seaborn\\_oldcore.py:1119: FutureWarning: use_inf_as_na option is deprecated and will be removed in a future version. Convert inf values to NaN before operating instead.\n",
      "  with pd.option_context('mode.use_inf_as_na', True):\n"
     ]
    },
    {
     "data": {
      "image/png": "[encoded data removed]",
      "text/plain": [
       "<Figure size 500x500 with 1 Axes>"
      ]
     },
     "metadata": {},
     "output_type": "display_data"
    }
   ],
   "source": [
    "sns.displot(np.random.poisson(lam=2,size=1000))\n",
    "plt.show()"
   ]
  },
  {
   "cell_type": "code",
   "execution_count": null,
   "id": "51b0f766-7240-4bd3-8798-08606420da53",
   "metadata": {},
   "outputs": [],
   "source": []
  },
  {
   "cell_type": "code",
   "execution_count": null,
   "id": "e604bd59-30f1-401c-b018-4c0ff779f4fe",
   "metadata": {},
   "outputs": [],
   "source": []
  },
  {
   "cell_type": "code",
   "execution_count": null,
   "id": "a67d27c9-b16e-4a31-8618-3eea82f7f9db",
   "metadata": {},
   "outputs": [],
   "source": []
  },
  {
   "cell_type": "code",
   "execution_count": null,
   "id": "df343112-0453-414e-b2a0-41de2ba16117",
   "metadata": {},
   "outputs": [],
   "source": []
  },
  {
   "cell_type": "code",
   "execution_count": null,
   "id": "375087af-5c0c-40a9-9b77-1eeb5c95bf2a",
   "metadata": {},
   "outputs": [],
   "source": []
  },
  {
   "cell_type": "code",
   "execution_count": null,
   "id": "6cb9e1fa-c25c-48bf-bad0-2f72519c92a7",
   "metadata": {},
   "outputs": [],
   "source": []
  }
 ],
 "metadata": {
  "kernelspec": {
   "display_name": "Python 3 (ipykernel)",
   "language": "python",
   "name": "python3"
  },
  "language_info": {
   "codemirror_mode": {
    "name": "ipython",
    "version": 3
   },
   "file_extension": ".py",
   "mimetype": "text/x-python",
   "name": "python",
   "nbconvert_exporter": "python",
   "pygments_lexer": "ipython3",
   "version": "3.11.7"
  }
 },
 "nbformat": 4,
 "nbformat_minor": 5
}
